{
  "nbformat": 4,
  "nbformat_minor": 0,
  "metadata": {
    "colab": {
      "name": "MNIST_baseline_model.ipynb",
      "provenance": [],
      "collapsed_sections": [],
      "include_colab_link": true
    },
    "kernelspec": {
      "name": "python3",
      "display_name": "Python 3"
    },
    "language_info": {
      "name": "python"
    },
    "accelerator": "GPU"
  },
  "cells": [
    {
      "cell_type": "markdown",
      "metadata": {
        "id": "view-in-github",
        "colab_type": "text"
      },
      "source": [
        "<a href=\"https://colab.research.google.com/github/tejaspradhan/Neural-Algorithmic-Reasoning/blob/main/MNIST_suggested_model.ipynb\" target=\"_parent\"><img src=\"https://colab.research.google.com/assets/colab-badge.svg\" alt=\"Open In Colab\"/></a>"
      ]
    },
    {
      "cell_type": "code",
      "execution_count": 24,
      "metadata": {
        "id": "R5zr922SAVde"
      },
      "outputs": [],
      "source": [
        "import numpy as np\n",
        "import matplotlib.pyplot as plt\n",
        "from tensorflow.keras.models import Sequential\n",
        "from tensorflow.keras.layers import Conv3D, MaxPool3D, Dense, Flatten, Dropout, LSTM, BatchNormalization\n",
        "from tensorflow import random\n",
        "%matplotlib inline"
      ]
    },
    {
      "cell_type": "code",
      "source": [
        "data = np.load(\"/content/train_image_data.npy\", allow_pickle=True)"
      ],
      "metadata": {
        "id": "SG7A9GbBBJWo"
      },
      "execution_count": 9,
      "outputs": []
    },
    {
      "cell_type": "code",
      "source": [
        "x, y= data[\"x\"], data[\"y\"]"
      ],
      "metadata": {
        "id": "HZnpkDLpBpaz"
      },
      "execution_count": 10,
      "outputs": []
    },
    {
      "cell_type": "code",
      "source": [
        "from sklearn.model_selection import train_test_split"
      ],
      "metadata": {
        "id": "RGjJafcwCULs"
      },
      "execution_count": 11,
      "outputs": []
    },
    {
      "cell_type": "code",
      "source": [
        "X_train, X_test, y_train, y_test = train_test_split(x, y, test_size = 0.3, random_state=42)"
      ],
      "metadata": {
        "id": "_7nHs8quBoCk"
      },
      "execution_count": 12,
      "outputs": []
    },
    {
      "cell_type": "code",
      "source": [
        "X_train.shape"
      ],
      "metadata": {
        "id": "IJts5ZfBCrIr",
        "outputId": "dac15924-eecb-4e70-b28c-4a329b4ee7fa",
        "colab": {
          "base_uri": "https://localhost:8080/"
        }
      },
      "execution_count": 13,
      "outputs": [
        {
          "output_type": "execute_result",
          "data": {
            "text/plain": [
              "(700, 3, 28, 28)"
            ]
          },
          "metadata": {},
          "execution_count": 13
        }
      ]
    },
    {
      "cell_type": "code",
      "source": [
        "#np.array([X_train]).shape"
      ],
      "metadata": {
        "id": "kjJvaIJiCskd"
      },
      "execution_count": 14,
      "outputs": []
    },
    {
      "cell_type": "code",
      "source": [
        "X_train = X_train.reshape(X_train.shape[0], 3, 28, 28, 1)"
      ],
      "metadata": {
        "id": "YSKeHUmqC-_f"
      },
      "execution_count": 15,
      "outputs": []
    },
    {
      "cell_type": "code",
      "source": [
        "X_train.shape"
      ],
      "metadata": {
        "id": "zW4R_WI3DMxg",
        "outputId": "0e6d1a38-6231-4fa4-a2c0-165569d1ff39",
        "colab": {
          "base_uri": "https://localhost:8080/"
        }
      },
      "execution_count": 16,
      "outputs": [
        {
          "output_type": "execute_result",
          "data": {
            "text/plain": [
              "(700, 3, 28, 28, 1)"
            ]
          },
          "metadata": {},
          "execution_count": 16
        }
      ]
    },
    {
      "cell_type": "code",
      "source": [
        "X_test = X_test.reshape(X_test.shape[0], 3, 28, 28, 1)"
      ],
      "metadata": {
        "id": "cVno5xB2DOK3"
      },
      "execution_count": 17,
      "outputs": []
    },
    {
      "cell_type": "code",
      "source": [
        "X_test.shape"
      ],
      "metadata": {
        "id": "1XH6GIc7DVfG",
        "outputId": "5eeefc4b-9014-4f41-ad59-3a70731a0e70",
        "colab": {
          "base_uri": "https://localhost:8080/"
        }
      },
      "execution_count": 18,
      "outputs": [
        {
          "output_type": "execute_result",
          "data": {
            "text/plain": [
              "(300, 3, 28, 28, 1)"
            ]
          },
          "metadata": {},
          "execution_count": 18
        }
      ]
    },
    {
      "cell_type": "code",
      "source": [
        "random.set_seed(42)\n",
        "# add batch norm layer \n",
        "# Only last layer should be FC. Replace others with convolution layers \n",
        "# add lstm after a couple more conv3d layers reducing dimensionality \n",
        "# switch to SGD. \n",
        "model = Sequential()\n",
        "model.add(Conv3D(256, 5, data_format= \"channels_last\", input_shape=(3,28,28,1), padding='same', activation='relu'))\n",
        "model.add(MaxPool3D(pool_size=(3,3,3)))\n",
        "model.add(Conv3D(128, 3,padding='same'))\n",
        "#model.add(MaxPool3D(pool_size=(3,3,3)))\n",
        "model.add(Conv3D(64, 3,padding='same'))\n",
        "model.add(Conv3D(32, 3,padding='same'))\n",
        "model.add(BatchNormalization())\n",
        "model.add(Flatten())\n",
        "#model.add(Dense(64, activation='relu'))\n",
        "#model.add(Dense(64, activation='relu'))\n",
        "model.add(Dense(32, activation='relu'))\n",
        "model.add(Dense(3, activation='relu'))\n",
        "model.summary()"
      ],
      "metadata": {
        "id": "HfrLtdybDZYc",
        "outputId": "c9c21656-5956-4ad2-e7c2-3684ea2e0410",
        "colab": {
          "base_uri": "https://localhost:8080/"
        }
      },
      "execution_count": 53,
      "outputs": [
        {
          "output_type": "stream",
          "name": "stdout",
          "text": [
            "Model: \"sequential_14\"\n",
            "_________________________________________________________________\n",
            " Layer (type)                Output Shape              Param #   \n",
            "=================================================================\n",
            " conv3d_49 (Conv3D)          (None, 3, 28, 28, 256)    32256     \n",
            "                                                                 \n",
            " max_pooling3d_15 (MaxPoolin  (None, 1, 9, 9, 256)     0         \n",
            " g3D)                                                            \n",
            "                                                                 \n",
            " conv3d_50 (Conv3D)          (None, 1, 9, 9, 128)      884864    \n",
            "                                                                 \n",
            " conv3d_51 (Conv3D)          (None, 1, 9, 9, 64)       221248    \n",
            "                                                                 \n",
            " conv3d_52 (Conv3D)          (None, 1, 9, 9, 32)       55328     \n",
            "                                                                 \n",
            " batch_normalization_6 (Batc  (None, 1, 9, 9, 32)      128       \n",
            " hNormalization)                                                 \n",
            "                                                                 \n",
            " flatten_8 (Flatten)         (None, 2592)              0         \n",
            "                                                                 \n",
            " dense_14 (Dense)            (None, 32)                82976     \n",
            "                                                                 \n",
            " dense_15 (Dense)            (None, 3)                 99        \n",
            "                                                                 \n",
            "=================================================================\n",
            "Total params: 1,276,899\n",
            "Trainable params: 1,276,835\n",
            "Non-trainable params: 64\n",
            "_________________________________________________________________\n"
          ]
        }
      ]
    },
    {
      "cell_type": "code",
      "source": [
        "model.compile(optimizer=\"sgd\", loss=\"mean_squared_error\")"
      ],
      "metadata": {
        "id": "NWpyEXaCGLYm"
      },
      "execution_count": 54,
      "outputs": []
    },
    {
      "cell_type": "code",
      "source": [
        "history = model.fit(X_train,y_train, validation_data=(X_test, y_test), epochs=100)"
      ],
      "metadata": {
        "id": "5RY9wZV3JC4d",
        "outputId": "0d0ca115-0ef1-41a1-85a5-5d121e1ffbf7",
        "colab": {
          "base_uri": "https://localhost:8080/"
        }
      },
      "execution_count": 55,
      "outputs": [
        {
          "output_type": "stream",
          "name": "stdout",
          "text": [
            "Epoch 1/100\n",
            "22/22 [==============================] - 2s 64ms/step - loss: 1.6573 - val_loss: 1.4226\n",
            "Epoch 2/100\n",
            "22/22 [==============================] - 1s 59ms/step - loss: 1.3780 - val_loss: 1.4130\n",
            "Epoch 3/100\n",
            "22/22 [==============================] - 1s 52ms/step - loss: 1.3430 - val_loss: 1.4217\n",
            "Epoch 4/100\n",
            "22/22 [==============================] - 1s 59ms/step - loss: 1.3486 - val_loss: 1.3909\n",
            "Epoch 5/100\n",
            "22/22 [==============================] - 1s 52ms/step - loss: 1.3494 - val_loss: 1.3702\n",
            "Epoch 6/100\n",
            "22/22 [==============================] - 1s 52ms/step - loss: 1.3425 - val_loss: 1.3684\n",
            "Epoch 7/100\n",
            "22/22 [==============================] - 1s 53ms/step - loss: 1.3455 - val_loss: 1.3660\n",
            "Epoch 8/100\n",
            "22/22 [==============================] - 1s 59ms/step - loss: 1.3398 - val_loss: 1.3679\n",
            "Epoch 9/100\n",
            "22/22 [==============================] - 1s 52ms/step - loss: 1.3384 - val_loss: 1.3641\n",
            "Epoch 10/100\n",
            "22/22 [==============================] - 1s 59ms/step - loss: 1.3414 - val_loss: 1.3638\n",
            "Epoch 11/100\n",
            "22/22 [==============================] - 1s 53ms/step - loss: 1.3374 - val_loss: 1.4235\n",
            "Epoch 12/100\n",
            "22/22 [==============================] - 1s 59ms/step - loss: 1.3406 - val_loss: 1.3712\n",
            "Epoch 13/100\n",
            "22/22 [==============================] - 1s 59ms/step - loss: 1.3349 - val_loss: 1.3677\n",
            "Epoch 14/100\n",
            "22/22 [==============================] - 1s 59ms/step - loss: 1.3382 - val_loss: 1.3873\n",
            "Epoch 15/100\n",
            "22/22 [==============================] - 1s 52ms/step - loss: 1.3356 - val_loss: 1.3621\n",
            "Epoch 16/100\n",
            "22/22 [==============================] - 1s 52ms/step - loss: 1.3365 - val_loss: 1.3613\n",
            "Epoch 17/100\n",
            "22/22 [==============================] - 1s 53ms/step - loss: 1.3314 - val_loss: 1.3610\n",
            "Epoch 18/100\n",
            "22/22 [==============================] - 1s 53ms/step - loss: 1.3330 - val_loss: 1.3642\n",
            "Epoch 19/100\n",
            "22/22 [==============================] - 1s 60ms/step - loss: 1.3337 - val_loss: 1.3758\n",
            "Epoch 20/100\n",
            "22/22 [==============================] - 1s 52ms/step - loss: 1.3321 - val_loss: 1.3589\n",
            "Epoch 21/100\n",
            "22/22 [==============================] - 1s 59ms/step - loss: 1.3272 - val_loss: 1.3792\n",
            "Epoch 22/100\n",
            "22/22 [==============================] - 1s 52ms/step - loss: 1.3553 - val_loss: 1.3577\n",
            "Epoch 23/100\n",
            "22/22 [==============================] - 1s 52ms/step - loss: 1.3213 - val_loss: 1.3550\n",
            "Epoch 24/100\n",
            "22/22 [==============================] - 1s 59ms/step - loss: 1.3155 - val_loss: 1.3547\n",
            "Epoch 25/100\n",
            "22/22 [==============================] - 1s 59ms/step - loss: 1.3104 - val_loss: 1.3517\n",
            "Epoch 26/100\n",
            "22/22 [==============================] - 1s 52ms/step - loss: 1.3144 - val_loss: 1.3557\n",
            "Epoch 27/100\n",
            "22/22 [==============================] - 1s 59ms/step - loss: 1.3064 - val_loss: 1.3489\n",
            "Epoch 28/100\n",
            "22/22 [==============================] - 1s 52ms/step - loss: 1.3211 - val_loss: 1.3583\n",
            "Epoch 29/100\n",
            "22/22 [==============================] - 1s 52ms/step - loss: 1.3027 - val_loss: 1.3395\n",
            "Epoch 30/100\n",
            "22/22 [==============================] - 1s 59ms/step - loss: 1.2958 - val_loss: 1.3472\n",
            "Epoch 31/100\n",
            "22/22 [==============================] - 1s 52ms/step - loss: 1.2802 - val_loss: 1.4110\n",
            "Epoch 32/100\n",
            "22/22 [==============================] - 1s 53ms/step - loss: 1.2849 - val_loss: 1.3801\n",
            "Epoch 33/100\n",
            "22/22 [==============================] - 1s 52ms/step - loss: 1.2752 - val_loss: 1.3792\n",
            "Epoch 34/100\n",
            "22/22 [==============================] - 1s 52ms/step - loss: 1.2763 - val_loss: 1.3497\n",
            "Epoch 35/100\n",
            "22/22 [==============================] - 1s 52ms/step - loss: 1.2611 - val_loss: 1.3446\n",
            "Epoch 36/100\n",
            "22/22 [==============================] - 1s 52ms/step - loss: 1.2603 - val_loss: 1.3393\n",
            "Epoch 37/100\n",
            "22/22 [==============================] - 1s 52ms/step - loss: 1.2536 - val_loss: 1.4181\n",
            "Epoch 38/100\n",
            "22/22 [==============================] - 1s 59ms/step - loss: 1.2349 - val_loss: 1.3907\n",
            "Epoch 39/100\n",
            "22/22 [==============================] - 1s 53ms/step - loss: 1.1241 - val_loss: 1.2179\n",
            "Epoch 40/100\n",
            "22/22 [==============================] - 1s 56ms/step - loss: 0.9161 - val_loss: 1.1187\n",
            "Epoch 41/100\n",
            "22/22 [==============================] - 1s 57ms/step - loss: 0.9029 - val_loss: 1.0830\n",
            "Epoch 42/100\n",
            "22/22 [==============================] - 1s 57ms/step - loss: 0.8787 - val_loss: 1.1095\n",
            "Epoch 43/100\n",
            "22/22 [==============================] - 1s 66ms/step - loss: 0.8514 - val_loss: 1.0846\n",
            "Epoch 44/100\n",
            "22/22 [==============================] - 1s 59ms/step - loss: 0.8459 - val_loss: 1.1831\n",
            "Epoch 45/100\n",
            "22/22 [==============================] - 1s 65ms/step - loss: 0.8401 - val_loss: 1.1510\n",
            "Epoch 46/100\n",
            "22/22 [==============================] - 1s 52ms/step - loss: 0.8083 - val_loss: 1.2525\n",
            "Epoch 47/100\n",
            "22/22 [==============================] - 1s 53ms/step - loss: 0.8045 - val_loss: 1.2277\n",
            "Epoch 48/100\n",
            "22/22 [==============================] - 1s 59ms/step - loss: 0.7566 - val_loss: 1.1954\n",
            "Epoch 49/100\n",
            "22/22 [==============================] - 1s 59ms/step - loss: 0.7457 - val_loss: 1.2273\n",
            "Epoch 50/100\n",
            "22/22 [==============================] - 1s 52ms/step - loss: 0.7313 - val_loss: 1.1749\n",
            "Epoch 51/100\n",
            "22/22 [==============================] - 1s 52ms/step - loss: 0.6820 - val_loss: 1.2432\n",
            "Epoch 52/100\n",
            "22/22 [==============================] - 1s 53ms/step - loss: 0.6855 - val_loss: 1.2026\n",
            "Epoch 53/100\n",
            "22/22 [==============================] - 1s 52ms/step - loss: 0.6685 - val_loss: 1.1555\n",
            "Epoch 54/100\n",
            "22/22 [==============================] - 1s 59ms/step - loss: 0.6272 - val_loss: 1.2108\n",
            "Epoch 55/100\n",
            "22/22 [==============================] - 1s 58ms/step - loss: 0.6019 - val_loss: 1.0919\n",
            "Epoch 56/100\n",
            "22/22 [==============================] - 1s 52ms/step - loss: 0.5870 - val_loss: 1.1473\n",
            "Epoch 57/100\n",
            "22/22 [==============================] - 1s 59ms/step - loss: 0.5702 - val_loss: 1.1246\n",
            "Epoch 58/100\n",
            "22/22 [==============================] - 1s 59ms/step - loss: 0.5794 - val_loss: 1.0765\n",
            "Epoch 59/100\n",
            "22/22 [==============================] - 1s 53ms/step - loss: 0.5589 - val_loss: 1.0669\n",
            "Epoch 60/100\n",
            "22/22 [==============================] - 1s 54ms/step - loss: 0.5511 - val_loss: 1.1116\n",
            "Epoch 61/100\n",
            "22/22 [==============================] - 1s 59ms/step - loss: 0.5500 - val_loss: 1.0783\n",
            "Epoch 62/100\n",
            "22/22 [==============================] - 1s 53ms/step - loss: 0.5505 - val_loss: 1.0294\n",
            "Epoch 63/100\n",
            "22/22 [==============================] - 1s 59ms/step - loss: 0.5461 - val_loss: 1.0081\n",
            "Epoch 64/100\n",
            "22/22 [==============================] - 1s 59ms/step - loss: 0.5466 - val_loss: 1.0168\n",
            "Epoch 65/100\n",
            "22/22 [==============================] - 1s 52ms/step - loss: 0.5543 - val_loss: 1.0377\n",
            "Epoch 66/100\n",
            "22/22 [==============================] - 1s 59ms/step - loss: 0.5518 - val_loss: 1.0017\n",
            "Epoch 67/100\n",
            "22/22 [==============================] - 1s 53ms/step - loss: 0.5471 - val_loss: 1.0193\n",
            "Epoch 68/100\n",
            "22/22 [==============================] - 1s 52ms/step - loss: 0.5480 - val_loss: 1.0204\n",
            "Epoch 69/100\n",
            "22/22 [==============================] - 1s 53ms/step - loss: 0.5455 - val_loss: 1.0130\n",
            "Epoch 70/100\n",
            "22/22 [==============================] - 1s 59ms/step - loss: 0.5422 - val_loss: 1.0182\n",
            "Epoch 71/100\n",
            "22/22 [==============================] - 1s 52ms/step - loss: 0.5419 - val_loss: 1.0062\n",
            "Epoch 72/100\n",
            "22/22 [==============================] - 1s 53ms/step - loss: 0.5420 - val_loss: 1.0146\n",
            "Epoch 73/100\n",
            "22/22 [==============================] - 1s 59ms/step - loss: 0.5417 - val_loss: 1.0180\n",
            "Epoch 74/100\n",
            "22/22 [==============================] - 1s 59ms/step - loss: 0.5415 - val_loss: 1.0070\n",
            "Epoch 75/100\n",
            "22/22 [==============================] - 1s 53ms/step - loss: 0.5421 - val_loss: 1.0110\n",
            "Epoch 76/100\n",
            "22/22 [==============================] - 1s 60ms/step - loss: 0.5411 - val_loss: 1.0179\n",
            "Epoch 77/100\n",
            "22/22 [==============================] - 1s 59ms/step - loss: 0.5406 - val_loss: 1.0159\n",
            "Epoch 78/100\n",
            "22/22 [==============================] - 1s 52ms/step - loss: 0.5425 - val_loss: 1.0107\n",
            "Epoch 79/100\n",
            "22/22 [==============================] - 1s 51ms/step - loss: 0.5409 - val_loss: 1.0148\n",
            "Epoch 80/100\n",
            "22/22 [==============================] - 1s 53ms/step - loss: 0.5409 - val_loss: 1.0126\n",
            "Epoch 81/100\n",
            "22/22 [==============================] - 1s 53ms/step - loss: 0.5419 - val_loss: 1.0121\n",
            "Epoch 82/100\n",
            "22/22 [==============================] - 1s 60ms/step - loss: 0.5413 - val_loss: 1.0145\n",
            "Epoch 83/100\n",
            "22/22 [==============================] - 1s 53ms/step - loss: 0.5405 - val_loss: 1.0117\n",
            "Epoch 84/100\n",
            "22/22 [==============================] - 1s 53ms/step - loss: 0.5404 - val_loss: 1.0139\n",
            "Epoch 85/100\n",
            "22/22 [==============================] - 1s 53ms/step - loss: 0.5411 - val_loss: 1.0168\n",
            "Epoch 86/100\n",
            "22/22 [==============================] - 1s 59ms/step - loss: 0.5402 - val_loss: 1.0150\n",
            "Epoch 87/100\n",
            "22/22 [==============================] - 1s 52ms/step - loss: 0.5408 - val_loss: 1.0236\n",
            "Epoch 88/100\n",
            "22/22 [==============================] - 1s 59ms/step - loss: 0.5402 - val_loss: 1.0131\n",
            "Epoch 89/100\n",
            "22/22 [==============================] - 1s 52ms/step - loss: 0.5402 - val_loss: 1.0099\n",
            "Epoch 90/100\n",
            "22/22 [==============================] - 1s 52ms/step - loss: 0.5408 - val_loss: 1.0165\n",
            "Epoch 91/100\n",
            "22/22 [==============================] - 1s 52ms/step - loss: 0.5404 - val_loss: 1.0142\n",
            "Epoch 92/100\n",
            "22/22 [==============================] - 1s 53ms/step - loss: 0.5407 - val_loss: 1.0153\n",
            "Epoch 93/100\n",
            "22/22 [==============================] - 1s 59ms/step - loss: 0.5412 - val_loss: 1.0133\n",
            "Epoch 94/100\n",
            "22/22 [==============================] - 1s 59ms/step - loss: 0.5404 - val_loss: 1.0146\n",
            "Epoch 95/100\n",
            "22/22 [==============================] - 1s 52ms/step - loss: 0.5402 - val_loss: 1.0161\n",
            "Epoch 96/100\n",
            "22/22 [==============================] - 1s 52ms/step - loss: 0.5400 - val_loss: 1.0149\n",
            "Epoch 97/100\n",
            "22/22 [==============================] - 1s 52ms/step - loss: 0.5401 - val_loss: 1.0169\n",
            "Epoch 98/100\n",
            "22/22 [==============================] - 1s 53ms/step - loss: 0.5402 - val_loss: 1.0180\n",
            "Epoch 99/100\n",
            "22/22 [==============================] - 1s 59ms/step - loss: 0.5399 - val_loss: 1.0168\n",
            "Epoch 100/100\n",
            "22/22 [==============================] - 1s 53ms/step - loss: 0.5405 - val_loss: 1.0118\n"
          ]
        }
      ]
    },
    {
      "cell_type": "code",
      "source": [
        "plt.plot(range(100), history.history['loss'])\n",
        "plt.plot(range(100), history.history['val_loss'])\n",
        "plt.show()"
      ],
      "metadata": {
        "id": "sdlZ8wnb0rLy",
        "outputId": "57acc9c9-0d0f-4c12-92f3-4d2ea9cc6d45",
        "colab": {
          "base_uri": "https://localhost:8080/",
          "height": 265
        }
      },
      "execution_count": 56,
      "outputs": [
        {
          "output_type": "display_data",
          "data": {
            "image/png": "[encoded data removed]",
            "text/plain": [
              "<Figure size 432x288 with 1 Axes>"
            ]
          },
          "metadata": {
            "needs_background": "light"
          }
        }
      ]
    },
    {
      "cell_type": "code",
      "source": [
        ""
      ],
      "metadata": {
        "id": "wGQs0w2aVIEN"
      },
      "execution_count": null,
      "outputs": []
    }
  ]
}