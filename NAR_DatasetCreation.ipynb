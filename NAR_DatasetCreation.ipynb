{
  "nbformat": 4,
  "nbformat_minor": 0,
  "metadata": {
    "colab": {
      "name": "NAR-DatasetCreation.ipynb",
      "provenance": [],
      "authorship_tag": "ABX9TyM7MMYsPvQR09fDJVEIIFBK",
      "include_colab_link": true
    },
    "kernelspec": {
      "name": "python3",
      "display_name": "Python 3"
    },
    "language_info": {
      "name": "python"
    }
  },
  "cells": [
    {
      "cell_type": "markdown",
      "metadata": {
        "id": "view-in-github",
        "colab_type": "text"
      },
      "source": [
        "<a href=\"https://colab.research.google.com/github/tejaspradhan/Neural-Algorithmic-Reasoning/blob/main/NAR_DatasetCreation.ipynb\" target=\"_parent\"><img src=\"https://colab.research.google.com/assets/colab-badge.svg\" alt=\"Open In Colab\"/></a>"
      ]
    },
    {
      "cell_type": "code",
      "execution_count": 13,
      "metadata": {
        "id": "n3w5UPjR2WJu"
      },
      "outputs": [],
      "source": [
        "import numpy as np\n",
        "import pandas as pd"
      ]
    },
    {
      "cell_type": "code",
      "source": [
        "np.random.randn(5)"
      ],
      "metadata": {
        "id": "2IF2L4Ha3K0d",
        "outputId": "f5c4bd0d-574d-43e2-bb88-7f1cc8fccbf5",
        "colab": {
          "base_uri": "https://localhost:8080/"
        }
      },
      "execution_count": 2,
      "outputs": [
        {
          "output_type": "execute_result",
          "data": {
            "text/plain": [
              "array([-0.80283737,  1.47990003,  0.01690322,  0.04541647, -0.0591117 ])"
            ]
          },
          "metadata": {},
          "execution_count": 2
        }
      ]
    },
    {
      "cell_type": "code",
      "source": [
        "data = []\n",
        "for i in range(100000):\n",
        "  data_pt = list(np.random.randn(5))\n",
        "  data.append(data_pt + sorted(data_pt))"
      ],
      "metadata": {
        "id": "WdK0N-483gDy"
      },
      "execution_count": 19,
      "outputs": []
    },
    {
      "cell_type": "code",
      "source": [
        "data = np.array(data)"
      ],
      "metadata": {
        "id": "QtvDiTJ04VP3"
      },
      "execution_count": 20,
      "outputs": []
    },
    {
      "cell_type": "code",
      "source": [
        "data.shape"
      ],
      "metadata": {
        "id": "M_2FqSty4zsr",
        "outputId": "bb816de4-43e1-45b0-d11d-23a2a396802b",
        "colab": {
          "base_uri": "https://localhost:8080/"
        }
      },
      "execution_count": 21,
      "outputs": [
        {
          "output_type": "execute_result",
          "data": {
            "text/plain": [
              "(100000, 10)"
            ]
          },
          "metadata": {},
          "execution_count": 21
        }
      ]
    },
    {
      "cell_type": "code",
      "source": [
        "data"
      ],
      "metadata": {
        "id": "7yL5ys1k47fk",
        "outputId": "5c242b62-f155-43a9-bd96-282aa1099e67",
        "colab": {
          "base_uri": "https://localhost:8080/"
        }
      },
      "execution_count": 22,
      "outputs": [
        {
          "output_type": "execute_result",
          "data": {
            "text/plain": [
              "array([[-0.15078041, -0.60237971,  0.70269012, ...,  0.05105792,\n",
              "         0.70269012,  0.82935123],\n",
              "       [-0.01103568,  1.89597014, -1.81238584, ..., -0.5792898 ,\n",
              "        -0.01103568,  1.89597014],\n",
              "       [ 1.01459609, -1.21630759, -0.91638094, ..., -0.91638094,\n",
              "        -0.18506902,  1.01459609],\n",
              "       ...,\n",
              "       [ 0.00896672, -0.04012147, -0.42858536, ..., -0.42858536,\n",
              "        -0.04012147,  0.00896672],\n",
              "       [-1.22923749,  1.0826794 , -0.51738646, ..., -0.51738646,\n",
              "         0.16604896,  1.0826794 ],\n",
              "       [ 0.63829843, -0.8629153 ,  0.65594965, ...,  0.63829843,\n",
              "         0.65594965,  0.81548198]])"
            ]
          },
          "metadata": {},
          "execution_count": 22
        }
      ]
    },
    {
      "cell_type": "code",
      "source": [
        "data = pd.DataFrame(data)"
      ],
      "metadata": {
        "id": "ycKguydg5Ab_"
      },
      "execution_count": 23,
      "outputs": []
    },
    {
      "cell_type": "code",
      "source": [
        "data"
      ],
      "metadata": {
        "id": "P0e82P-95NoX",
        "outputId": "3132726e-d10f-4196-cd8c-f4ab4f912019",
        "colab": {
          "base_uri": "https://localhost:8080/",
          "height": 424
        }
      },
      "execution_count": 24,
      "outputs": [
        {
          "output_type": "execute_result",
          "data": {
            "text/html": [
              "<div>\n",
              "<style scoped>\n",
              "    .dataframe tbody tr th:only-of-type {\n",
              "        vertical-align: middle;\n",
              "    }\n",
              "\n",
              "    .dataframe tbody tr th {\n",
              "        vertical-align: top;\n",
              "    }\n",
              "\n",
              "    .dataframe thead th {\n",
              "        text-align: right;\n",
              "    }\n",
              "</style>\n",
              "<table border=\"1\" class=\"dataframe\">\n",
              "  <thead>\n",
              "    <tr style=\"text-align: right;\">\n",
              "      <th></th>\n",
              "      <th>0</th>\n",
              "      <th>1</th>\n",
              "      <th>2</th>\n",
              "      <th>3</th>\n",
              "      <th>4</th>\n",
              "      <th>5</th>\n",
              "      <th>6</th>\n",
              "      <th>7</th>\n",
              "      <th>8</th>\n",
              "      <th>9</th>\n",
              "    </tr>\n",
              "  </thead>\n",
              "  <tbody>\n",
              "    <tr>\n",
              "      <th>0</th>\n",
              "      <td>-0.150780</td>\n",
              "      <td>-0.602380</td>\n",
              "      <td>0.702690</td>\n",
              "      <td>0.829351</td>\n",
              "      <td>0.051058</td>\n",
              "      <td>-0.602380</td>\n",
              "      <td>-0.150780</td>\n",
              "      <td>0.051058</td>\n",
              "      <td>0.702690</td>\n",
              "      <td>0.829351</td>\n",
              "    </tr>\n",
              "    <tr>\n",
              "      <th>1</th>\n",
              "      <td>-0.011036</td>\n",
              "      <td>1.895970</td>\n",
              "      <td>-1.812386</td>\n",
              "      <td>-0.579290</td>\n",
              "      <td>-0.971200</td>\n",
              "      <td>-1.812386</td>\n",
              "      <td>-0.971200</td>\n",
              "      <td>-0.579290</td>\n",
              "      <td>-0.011036</td>\n",
              "      <td>1.895970</td>\n",
              "    </tr>\n",
              "    <tr>\n",
              "      <th>2</th>\n",
              "      <td>1.014596</td>\n",
              "      <td>-1.216308</td>\n",
              "      <td>-0.916381</td>\n",
              "      <td>-1.153549</td>\n",
              "      <td>-0.185069</td>\n",
              "      <td>-1.216308</td>\n",
              "      <td>-1.153549</td>\n",
              "      <td>-0.916381</td>\n",
              "      <td>-0.185069</td>\n",
              "      <td>1.014596</td>\n",
              "    </tr>\n",
              "    <tr>\n",
              "      <th>3</th>\n",
              "      <td>1.194529</td>\n",
              "      <td>0.079426</td>\n",
              "      <td>1.010069</td>\n",
              "      <td>-0.061946</td>\n",
              "      <td>1.108565</td>\n",
              "      <td>-0.061946</td>\n",
              "      <td>0.079426</td>\n",
              "      <td>1.010069</td>\n",
              "      <td>1.108565</td>\n",
              "      <td>1.194529</td>\n",
              "    </tr>\n",
              "    <tr>\n",
              "      <th>4</th>\n",
              "      <td>-1.173676</td>\n",
              "      <td>0.378997</td>\n",
              "      <td>-1.863175</td>\n",
              "      <td>-1.350366</td>\n",
              "      <td>2.006267</td>\n",
              "      <td>-1.863175</td>\n",
              "      <td>-1.350366</td>\n",
              "      <td>-1.173676</td>\n",
              "      <td>0.378997</td>\n",
              "      <td>2.006267</td>\n",
              "    </tr>\n",
              "    <tr>\n",
              "      <th>...</th>\n",
              "      <td>...</td>\n",
              "      <td>...</td>\n",
              "      <td>...</td>\n",
              "      <td>...</td>\n",
              "      <td>...</td>\n",
              "      <td>...</td>\n",
              "      <td>...</td>\n",
              "      <td>...</td>\n",
              "      <td>...</td>\n",
              "      <td>...</td>\n",
              "    </tr>\n",
              "    <tr>\n",
              "      <th>99995</th>\n",
              "      <td>-0.664999</td>\n",
              "      <td>-0.299989</td>\n",
              "      <td>-1.969445</td>\n",
              "      <td>1.008014</td>\n",
              "      <td>-0.372621</td>\n",
              "      <td>-1.969445</td>\n",
              "      <td>-0.664999</td>\n",
              "      <td>-0.372621</td>\n",
              "      <td>-0.299989</td>\n",
              "      <td>1.008014</td>\n",
              "    </tr>\n",
              "    <tr>\n",
              "      <th>99996</th>\n",
              "      <td>-0.623784</td>\n",
              "      <td>0.830732</td>\n",
              "      <td>-1.510503</td>\n",
              "      <td>1.342113</td>\n",
              "      <td>-0.863201</td>\n",
              "      <td>-1.510503</td>\n",
              "      <td>-0.863201</td>\n",
              "      <td>-0.623784</td>\n",
              "      <td>0.830732</td>\n",
              "      <td>1.342113</td>\n",
              "    </tr>\n",
              "    <tr>\n",
              "      <th>99997</th>\n",
              "      <td>0.008967</td>\n",
              "      <td>-0.040121</td>\n",
              "      <td>-0.428585</td>\n",
              "      <td>-1.644540</td>\n",
              "      <td>-0.498676</td>\n",
              "      <td>-1.644540</td>\n",
              "      <td>-0.498676</td>\n",
              "      <td>-0.428585</td>\n",
              "      <td>-0.040121</td>\n",
              "      <td>0.008967</td>\n",
              "    </tr>\n",
              "    <tr>\n",
              "      <th>99998</th>\n",
              "      <td>-1.229237</td>\n",
              "      <td>1.082679</td>\n",
              "      <td>-0.517386</td>\n",
              "      <td>-0.725549</td>\n",
              "      <td>0.166049</td>\n",
              "      <td>-1.229237</td>\n",
              "      <td>-0.725549</td>\n",
              "      <td>-0.517386</td>\n",
              "      <td>0.166049</td>\n",
              "      <td>1.082679</td>\n",
              "    </tr>\n",
              "    <tr>\n",
              "      <th>99999</th>\n",
              "      <td>0.638298</td>\n",
              "      <td>-0.862915</td>\n",
              "      <td>0.655950</td>\n",
              "      <td>0.815482</td>\n",
              "      <td>0.403370</td>\n",
              "      <td>-0.862915</td>\n",
              "      <td>0.403370</td>\n",
              "      <td>0.638298</td>\n",
              "      <td>0.655950</td>\n",
              "      <td>0.815482</td>\n",
              "    </tr>\n",
              "  </tbody>\n",
              "</table>\n",
              "<p>100000 rows × 10 columns</p>\n",
              "</div>"
            ],
            "text/plain": [
              "              0         1         2  ...         7         8         9\n",
              "0     -0.150780 -0.602380  0.702690  ...  0.051058  0.702690  0.829351\n",
              "1     -0.011036  1.895970 -1.812386  ... -0.579290 -0.011036  1.895970\n",
              "2      1.014596 -1.216308 -0.916381  ... -0.916381 -0.185069  1.014596\n",
              "3      1.194529  0.079426  1.010069  ...  1.010069  1.108565  1.194529\n",
              "4     -1.173676  0.378997 -1.863175  ... -1.173676  0.378997  2.006267\n",
              "...         ...       ...       ...  ...       ...       ...       ...\n",
              "99995 -0.664999 -0.299989 -1.969445  ... -0.372621 -0.299989  1.008014\n",
              "99996 -0.623784  0.830732 -1.510503  ... -0.623784  0.830732  1.342113\n",
              "99997  0.008967 -0.040121 -0.428585  ... -0.428585 -0.040121  0.008967\n",
              "99998 -1.229237  1.082679 -0.517386  ... -0.517386  0.166049  1.082679\n",
              "99999  0.638298 -0.862915  0.655950  ...  0.638298  0.655950  0.815482\n",
              "\n",
              "[100000 rows x 10 columns]"
            ]
          },
          "metadata": {},
          "execution_count": 24
        }
      ]
    },
    {
      "cell_type": "code",
      "source": [
        "data.columns = ['I1', 'I2', 'I3', 'I4', 'I5', 'O1', 'O2', 'O3', 'O4', 'O5']"
      ],
      "metadata": {
        "id": "rQ_QD9X05OlL"
      },
      "execution_count": 25,
      "outputs": []
    },
    {
      "cell_type": "code",
      "source": [
        "data"
      ],
      "metadata": {
        "id": "Z1wHog6j5i_f",
        "outputId": "3353dfeb-c436-4e39-f505-7e66a440bf68",
        "colab": {
          "base_uri": "https://localhost:8080/",
          "height": 424
        }
      },
      "execution_count": 26,
      "outputs": [
        {
          "output_type": "execute_result",
          "data": {
            "text/html": [
              "<div>\n",
              "<style scoped>\n",
              "    .dataframe tbody tr th:only-of-type {\n",
              "        vertical-align: middle;\n",
              "    }\n",
              "\n",
              "    .dataframe tbody tr th {\n",
              "        vertical-align: top;\n",
              "    }\n",
              "\n",
              "    .dataframe thead th {\n",
              "        text-align: right;\n",
              "    }\n",
              "</style>\n",
              "<table border=\"1\" class=\"dataframe\">\n",
              "  <thead>\n",
              "    <tr style=\"text-align: right;\">\n",
              "      <th></th>\n",
              "      <th>I1</th>\n",
              "      <th>I2</th>\n",
              "      <th>I3</th>\n",
              "      <th>I4</th>\n",
              "      <th>I5</th>\n",
              "      <th>O1</th>\n",
              "      <th>O2</th>\n",
              "      <th>O3</th>\n",
              "      <th>O4</th>\n",
              "      <th>O5</th>\n",
              "    </tr>\n",
              "  </thead>\n",
              "  <tbody>\n",
              "    <tr>\n",
              "      <th>0</th>\n",
              "      <td>-0.150780</td>\n",
              "      <td>-0.602380</td>\n",
              "      <td>0.702690</td>\n",
              "      <td>0.829351</td>\n",
              "      <td>0.051058</td>\n",
              "      <td>-0.602380</td>\n",
              "      <td>-0.150780</td>\n",
              "      <td>0.051058</td>\n",
              "      <td>0.702690</td>\n",
              "      <td>0.829351</td>\n",
              "    </tr>\n",
              "    <tr>\n",
              "      <th>1</th>\n",
              "      <td>-0.011036</td>\n",
              "      <td>1.895970</td>\n",
              "      <td>-1.812386</td>\n",
              "      <td>-0.579290</td>\n",
              "      <td>-0.971200</td>\n",
              "      <td>-1.812386</td>\n",
              "      <td>-0.971200</td>\n",
              "      <td>-0.579290</td>\n",
              "      <td>-0.011036</td>\n",
              "      <td>1.895970</td>\n",
              "    </tr>\n",
              "    <tr>\n",
              "      <th>2</th>\n",
              "      <td>1.014596</td>\n",
              "      <td>-1.216308</td>\n",
              "      <td>-0.916381</td>\n",
              "      <td>-1.153549</td>\n",
              "      <td>-0.185069</td>\n",
              "      <td>-1.216308</td>\n",
              "      <td>-1.153549</td>\n",
              "      <td>-0.916381</td>\n",
              "      <td>-0.185069</td>\n",
              "      <td>1.014596</td>\n",
              "    </tr>\n",
              "    <tr>\n",
              "      <th>3</th>\n",
              "      <td>1.194529</td>\n",
              "      <td>0.079426</td>\n",
              "      <td>1.010069</td>\n",
              "      <td>-0.061946</td>\n",
              "      <td>1.108565</td>\n",
              "      <td>-0.061946</td>\n",
              "      <td>0.079426</td>\n",
              "      <td>1.010069</td>\n",
              "      <td>1.108565</td>\n",
              "      <td>1.194529</td>\n",
              "    </tr>\n",
              "    <tr>\n",
              "      <th>4</th>\n",
              "      <td>-1.173676</td>\n",
              "      <td>0.378997</td>\n",
              "      <td>-1.863175</td>\n",
              "      <td>-1.350366</td>\n",
              "      <td>2.006267</td>\n",
              "      <td>-1.863175</td>\n",
              "      <td>-1.350366</td>\n",
              "      <td>-1.173676</td>\n",
              "      <td>0.378997</td>\n",
              "      <td>2.006267</td>\n",
              "    </tr>\n",
              "    <tr>\n",
              "      <th>...</th>\n",
              "      <td>...</td>\n",
              "      <td>...</td>\n",
              "      <td>...</td>\n",
              "      <td>...</td>\n",
              "      <td>...</td>\n",
              "      <td>...</td>\n",
              "      <td>...</td>\n",
              "      <td>...</td>\n",
              "      <td>...</td>\n",
              "      <td>...</td>\n",
              "    </tr>\n",
              "    <tr>\n",
              "      <th>99995</th>\n",
              "      <td>-0.664999</td>\n",
              "      <td>-0.299989</td>\n",
              "      <td>-1.969445</td>\n",
              "      <td>1.008014</td>\n",
              "      <td>-0.372621</td>\n",
              "      <td>-1.969445</td>\n",
              "      <td>-0.664999</td>\n",
              "      <td>-0.372621</td>\n",
              "      <td>-0.299989</td>\n",
              "      <td>1.008014</td>\n",
              "    </tr>\n",
              "    <tr>\n",
              "      <th>99996</th>\n",
              "      <td>-0.623784</td>\n",
              "      <td>0.830732</td>\n",
              "      <td>-1.510503</td>\n",
              "      <td>1.342113</td>\n",
              "      <td>-0.863201</td>\n",
              "      <td>-1.510503</td>\n",
              "      <td>-0.863201</td>\n",
              "      <td>-0.623784</td>\n",
              "      <td>0.830732</td>\n",
              "      <td>1.342113</td>\n",
              "    </tr>\n",
              "    <tr>\n",
              "      <th>99997</th>\n",
              "      <td>0.008967</td>\n",
              "      <td>-0.040121</td>\n",
              "      <td>-0.428585</td>\n",
              "      <td>-1.644540</td>\n",
              "      <td>-0.498676</td>\n",
              "      <td>-1.644540</td>\n",
              "      <td>-0.498676</td>\n",
              "      <td>-0.428585</td>\n",
              "      <td>-0.040121</td>\n",
              "      <td>0.008967</td>\n",
              "    </tr>\n",
              "    <tr>\n",
              "      <th>99998</th>\n",
              "      <td>-1.229237</td>\n",
              "      <td>1.082679</td>\n",
              "      <td>-0.517386</td>\n",
              "      <td>-0.725549</td>\n",
              "      <td>0.166049</td>\n",
              "      <td>-1.229237</td>\n",
              "      <td>-0.725549</td>\n",
              "      <td>-0.517386</td>\n",
              "      <td>0.166049</td>\n",
              "      <td>1.082679</td>\n",
              "    </tr>\n",
              "    <tr>\n",
              "      <th>99999</th>\n",
              "      <td>0.638298</td>\n",
              "      <td>-0.862915</td>\n",
              "      <td>0.655950</td>\n",
              "      <td>0.815482</td>\n",
              "      <td>0.403370</td>\n",
              "      <td>-0.862915</td>\n",
              "      <td>0.403370</td>\n",
              "      <td>0.638298</td>\n",
              "      <td>0.655950</td>\n",
              "      <td>0.815482</td>\n",
              "    </tr>\n",
              "  </tbody>\n",
              "</table>\n",
              "<p>100000 rows × 10 columns</p>\n",
              "</div>"
            ],
            "text/plain": [
              "             I1        I2        I3  ...        O3        O4        O5\n",
              "0     -0.150780 -0.602380  0.702690  ...  0.051058  0.702690  0.829351\n",
              "1     -0.011036  1.895970 -1.812386  ... -0.579290 -0.011036  1.895970\n",
              "2      1.014596 -1.216308 -0.916381  ... -0.916381 -0.185069  1.014596\n",
              "3      1.194529  0.079426  1.010069  ...  1.010069  1.108565  1.194529\n",
              "4     -1.173676  0.378997 -1.863175  ... -1.173676  0.378997  2.006267\n",
              "...         ...       ...       ...  ...       ...       ...       ...\n",
              "99995 -0.664999 -0.299989 -1.969445  ... -0.372621 -0.299989  1.008014\n",
              "99996 -0.623784  0.830732 -1.510503  ... -0.623784  0.830732  1.342113\n",
              "99997  0.008967 -0.040121 -0.428585  ... -0.428585 -0.040121  0.008967\n",
              "99998 -1.229237  1.082679 -0.517386  ... -0.517386  0.166049  1.082679\n",
              "99999  0.638298 -0.862915  0.655950  ...  0.638298  0.655950  0.815482\n",
              "\n",
              "[100000 rows x 10 columns]"
            ]
          },
          "metadata": {},
          "execution_count": 26
        }
      ]
    },
    {
      "cell_type": "code",
      "source": [
        "data.to_csv('nar_data.csv')"
      ],
      "metadata": {
        "id": "NUOSVPo65qEV"
      },
      "execution_count": 27,
      "outputs": []
    },
    {
      "cell_type": "code",
      "source": [
        ""
      ],
      "metadata": {
        "id": "qxA47dte56Fw"
      },
      "execution_count": null,
      "outputs": []
    }
  ]
}