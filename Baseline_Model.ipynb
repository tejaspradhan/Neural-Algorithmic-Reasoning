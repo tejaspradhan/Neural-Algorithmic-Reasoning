{
  "nbformat": 4,
  "nbformat_minor": 0,
  "metadata": {
    "colab": {
      "name": "Baseline_Model.ipynb",
      "provenance": [],
      "authorship_tag": "ABX9TyN3vpDQqOoivxJl6NRP3FtE",
      "include_colab_link": true
    },
    "kernelspec": {
      "name": "python3",
      "display_name": "Python 3"
    },
    "language_info": {
      "name": "python"
    },
    "accelerator": "GPU"
  },
  "cells": [
    {
      "cell_type": "markdown",
      "metadata": {
        "id": "view-in-github",
        "colab_type": "text"
      },
      "source": [
        "<a href=\"https://colab.research.google.com/github/tejaspradhan/Neural-Algorithmic-Reasoning/blob/main/Baseline_Model.ipynb\" target=\"_parent\"><img src=\"https://colab.research.google.com/assets/colab-badge.svg\" alt=\"Open In Colab\"/></a>"
      ]
    },
    {
      "cell_type": "code",
      "execution_count": 1,
      "metadata": {
        "id": "sOxsdmWM6XaW"
      },
      "outputs": [],
      "source": [
        "import numpy as np\n",
        "import pandas as pd\n",
        "from tensorflow.keras.models import Sequential\n",
        "from tensorflow.keras.layers import Dense\n",
        "from sklearn.model_selection import train_test_split"
      ]
    },
    {
      "cell_type": "code",
      "source": [
        ""
      ],
      "metadata": {
        "id": "hYd8IVJV_hXa"
      },
      "execution_count": 1,
      "outputs": []
    },
    {
      "cell_type": "code",
      "source": [
        "data = pd.read_csv('https://raw.githubusercontent.com/tejaspradhan/Neural-Algorithmic-Reasoning/main/nar_data.csv')"
      ],
      "metadata": {
        "id": "M31djY_M6wOi"
      },
      "execution_count": 2,
      "outputs": []
    },
    {
      "cell_type": "code",
      "source": [
        "data.drop('Unnamed: 0',axis=1,inplace=True)"
      ],
      "metadata": {
        "id": "VQXKg_1Z65Wt"
      },
      "execution_count": 3,
      "outputs": []
    },
    {
      "cell_type": "code",
      "source": [
        "data.head()"
      ],
      "metadata": {
        "colab": {
          "base_uri": "https://localhost:8080/",
          "height": 206
        },
        "id": "gQMk9Ppc6yWl",
        "outputId": "537f27e1-ed34-4ff9-a91a-39c776d1e99d"
      },
      "execution_count": 4,
      "outputs": [
        {
          "output_type": "execute_result",
          "data": {
            "text/html": [
              "<div>\n",
              "<style scoped>\n",
              "    .dataframe tbody tr th:only-of-type {\n",
              "        vertical-align: middle;\n",
              "    }\n",
              "\n",
              "    .dataframe tbody tr th {\n",
              "        vertical-align: top;\n",
              "    }\n",
              "\n",
              "    .dataframe thead th {\n",
              "        text-align: right;\n",
              "    }\n",
              "</style>\n",
              "<table border=\"1\" class=\"dataframe\">\n",
              "  <thead>\n",
              "    <tr style=\"text-align: right;\">\n",
              "      <th></th>\n",
              "      <th>I1</th>\n",
              "      <th>I2</th>\n",
              "      <th>I3</th>\n",
              "      <th>I4</th>\n",
              "      <th>I5</th>\n",
              "      <th>O1</th>\n",
              "      <th>O2</th>\n",
              "      <th>O3</th>\n",
              "      <th>O4</th>\n",
              "      <th>O5</th>\n",
              "    </tr>\n",
              "  </thead>\n",
              "  <tbody>\n",
              "    <tr>\n",
              "      <th>0</th>\n",
              "      <td>-0.150780</td>\n",
              "      <td>-0.602380</td>\n",
              "      <td>0.702690</td>\n",
              "      <td>0.829351</td>\n",
              "      <td>0.051058</td>\n",
              "      <td>-0.602380</td>\n",
              "      <td>-0.150780</td>\n",
              "      <td>0.051058</td>\n",
              "      <td>0.702690</td>\n",
              "      <td>0.829351</td>\n",
              "    </tr>\n",
              "    <tr>\n",
              "      <th>1</th>\n",
              "      <td>-0.011036</td>\n",
              "      <td>1.895970</td>\n",
              "      <td>-1.812386</td>\n",
              "      <td>-0.579290</td>\n",
              "      <td>-0.971200</td>\n",
              "      <td>-1.812386</td>\n",
              "      <td>-0.971200</td>\n",
              "      <td>-0.579290</td>\n",
              "      <td>-0.011036</td>\n",
              "      <td>1.895970</td>\n",
              "    </tr>\n",
              "    <tr>\n",
              "      <th>2</th>\n",
              "      <td>1.014596</td>\n",
              "      <td>-1.216308</td>\n",
              "      <td>-0.916381</td>\n",
              "      <td>-1.153549</td>\n",
              "      <td>-0.185069</td>\n",
              "      <td>-1.216308</td>\n",
              "      <td>-1.153549</td>\n",
              "      <td>-0.916381</td>\n",
              "      <td>-0.185069</td>\n",
              "      <td>1.014596</td>\n",
              "    </tr>\n",
              "    <tr>\n",
              "      <th>3</th>\n",
              "      <td>1.194529</td>\n",
              "      <td>0.079426</td>\n",
              "      <td>1.010069</td>\n",
              "      <td>-0.061946</td>\n",
              "      <td>1.108565</td>\n",
              "      <td>-0.061946</td>\n",
              "      <td>0.079426</td>\n",
              "      <td>1.010069</td>\n",
              "      <td>1.108565</td>\n",
              "      <td>1.194529</td>\n",
              "    </tr>\n",
              "    <tr>\n",
              "      <th>4</th>\n",
              "      <td>-1.173676</td>\n",
              "      <td>0.378997</td>\n",
              "      <td>-1.863175</td>\n",
              "      <td>-1.350366</td>\n",
              "      <td>2.006267</td>\n",
              "      <td>-1.863175</td>\n",
              "      <td>-1.350366</td>\n",
              "      <td>-1.173676</td>\n",
              "      <td>0.378997</td>\n",
              "      <td>2.006267</td>\n",
              "    </tr>\n",
              "  </tbody>\n",
              "</table>\n",
              "</div>"
            ],
            "text/plain": [
              "         I1        I2        I3  ...        O3        O4        O5\n",
              "0 -0.150780 -0.602380  0.702690  ...  0.051058  0.702690  0.829351\n",
              "1 -0.011036  1.895970 -1.812386  ... -0.579290 -0.011036  1.895970\n",
              "2  1.014596 -1.216308 -0.916381  ... -0.916381 -0.185069  1.014596\n",
              "3  1.194529  0.079426  1.010069  ...  1.010069  1.108565  1.194529\n",
              "4 -1.173676  0.378997 -1.863175  ... -1.173676  0.378997  2.006267\n",
              "\n",
              "[5 rows x 10 columns]"
            ]
          },
          "metadata": {},
          "execution_count": 4
        }
      ]
    },
    {
      "cell_type": "code",
      "source": [
        "model=Sequential()\n",
        "model.add(Dense(10,activation='tanh'))\n",
        "model.add(Dense(100,activation='tanh'))\n",
        "model.add(Dense(10,activation='tanh'))\n",
        "model.add(Dense(5))"
      ],
      "metadata": {
        "id": "FEPqp8HWAN8F"
      },
      "execution_count": 5,
      "outputs": []
    },
    {
      "cell_type": "code",
      "source": [
        "model.compile(loss='mean_squared_error',optimizer = 'adam',metrics=['accuracy'])"
      ],
      "metadata": {
        "id": "4y70Fr5C63Id"
      },
      "execution_count": 6,
      "outputs": []
    },
    {
      "cell_type": "code",
      "source": [
        "x,y = data[['I1','I2','I3','I4','I5']] , data[['O1','O2','O3','O4','O5']]"
      ],
      "metadata": {
        "id": "xw3wisH-71bs"
      },
      "execution_count": 7,
      "outputs": []
    },
    {
      "cell_type": "code",
      "source": [
        "x_train,x_test,y_train, y_test = train_test_split(x,y,random_state=42,test_size=0.3)"
      ],
      "metadata": {
        "id": "G1gL9Rcr8HLx"
      },
      "execution_count": 8,
      "outputs": []
    },
    {
      "cell_type": "code",
      "source": [
        ""
      ],
      "metadata": {
        "id": "B5h9AXTEAOkv"
      },
      "execution_count": 8,
      "outputs": []
    },
    {
      "cell_type": "code",
      "source": [
        "model.fit(x_train,y_train,validation_data=(x_test,y_test),epochs=50)"
      ],
      "metadata": {
        "id": "l5OU6Rev8dQJ"
      },
      "execution_count": null,
      "outputs": []
    },
    {
      "cell_type": "code",
      "source": [
        "model.predict([[0.5,0.3,0.1,0.2,0.4]])"
      ],
      "metadata": {
        "id": "gLAK6f2x8zua"
      },
      "execution_count": null,
      "outputs": []
    },
    {
      "cell_type": "code",
      "source": [
        ""
      ],
      "metadata": {
        "id": "WbX8O7ynAGwS"
      },
      "execution_count": null,
      "outputs": []
    },
    {
      "cell_type": "code",
      "source": [
        ""
      ],
      "metadata": {
        "id": "LRuv7vMoAHAO"
      },
      "execution_count": null,
      "outputs": []
    },
    {
      "cell_type": "code",
      "source": [
        "data = []\n",
        "for i in range(100000):\n",
        "  data_pt = list(np.random.randint(1,10,size=5))\n",
        "  data.append(data_pt + sorted(data_pt))"
      ],
      "metadata": {
        "id": "wB932IuG_XhW"
      },
      "execution_count": 10,
      "outputs": []
    },
    {
      "cell_type": "code",
      "source": [
        "data = np.array(data)"
      ],
      "metadata": {
        "id": "JOtEh2fV_XpC"
      },
      "execution_count": 11,
      "outputs": []
    },
    {
      "cell_type": "code",
      "source": [
        "data = pd.DataFrame(data)\n",
        "data.columns = ['I1', 'I2', 'I3', 'I4', 'I5', 'O1', 'O2', 'O3', 'O4', 'O5']"
      ],
      "metadata": {
        "id": "mX966Awg_Xu1"
      },
      "execution_count": 12,
      "outputs": []
    },
    {
      "cell_type": "code",
      "source": [
        "x,y = data[['I1','I2','I3','I4','I5']] , data[['O1','O2','O3','O4','O5']]"
      ],
      "metadata": {
        "id": "U6dAlf-LDl31"
      },
      "execution_count": 13,
      "outputs": []
    },
    {
      "cell_type": "code",
      "source": [
        "x_train,x_test,y_train, y_test = train_test_split(x,y,random_state=42,test_size=0.3)"
      ],
      "metadata": {
        "id": "CMw4LnYsDoUL"
      },
      "execution_count": 14,
      "outputs": []
    },
    {
      "cell_type": "code",
      "source": [
        "model=Sequential()\n",
        "model.add(Dense(10,activation='relu'))\n",
        "model.add(Dense(100,activation='relu'))\n",
        "model.add(Dense(10,activation='relu'))\n",
        "model.add(Dense(5))"
      ],
      "metadata": {
        "id": "zLoIRavu60aA"
      },
      "execution_count": 15,
      "outputs": []
    },
    {
      "cell_type": "code",
      "source": [
        "model.compile(loss='mean_squared_error',optimizer = 'adam',metrics=['accuracy'])"
      ],
      "metadata": {
        "id": "TwhoODFO85ff"
      },
      "execution_count": 16,
      "outputs": []
    },
    {
      "cell_type": "code",
      "source": [
        "model.fit(x_train,y_train,validation_data=(x_test,y_test),epochs=50)"
      ],
      "metadata": {
        "colab": {
          "base_uri": "https://localhost:8080/"
        },
        "id": "0tG3J8mNAXGS",
        "outputId": "d3b5e44f-2acd-4116-ef22-4ae1de9f0e22"
      },
      "execution_count": 17,
      "outputs": [
        {
          "output_type": "stream",
          "name": "stdout",
          "text": [
            "Epoch 1/50\n",
            "2188/2188 [==============================] - 11s 5ms/step - loss: 1.0384 - accuracy: 0.7443 - val_loss: 0.4949 - val_accuracy: 0.7383\n",
            "Epoch 2/50\n",
            "2188/2188 [==============================] - 10s 5ms/step - loss: 0.3911 - accuracy: 0.7453 - val_loss: 0.2810 - val_accuracy: 0.7419\n",
            "Epoch 3/50\n",
            "2188/2188 [==============================] - 10s 5ms/step - loss: 0.2206 - accuracy: 0.7560 - val_loss: 0.1678 - val_accuracy: 0.7684\n",
            "Epoch 4/50\n",
            "2188/2188 [==============================] - 10s 5ms/step - loss: 0.1502 - accuracy: 0.7764 - val_loss: 0.1295 - val_accuracy: 0.7897\n",
            "Epoch 5/50\n",
            "2188/2188 [==============================] - 10s 5ms/step - loss: 0.1205 - accuracy: 0.7834 - val_loss: 0.1065 - val_accuracy: 0.7751\n",
            "Epoch 6/50\n",
            "2188/2188 [==============================] - 10s 5ms/step - loss: 0.1034 - accuracy: 0.7883 - val_loss: 0.0970 - val_accuracy: 0.7748\n",
            "Epoch 7/50\n",
            "2188/2188 [==============================] - 11s 5ms/step - loss: 0.0927 - accuracy: 0.7908 - val_loss: 0.0933 - val_accuracy: 0.7645\n",
            "Epoch 8/50\n",
            "2188/2188 [==============================] - 10s 4ms/step - loss: 0.0851 - accuracy: 0.7931 - val_loss: 0.0787 - val_accuracy: 0.7867\n",
            "Epoch 9/50\n",
            "2188/2188 [==============================] - 10s 5ms/step - loss: 0.0792 - accuracy: 0.7944 - val_loss: 0.0755 - val_accuracy: 0.8005\n",
            "Epoch 10/50\n",
            "2188/2188 [==============================] - 10s 5ms/step - loss: 0.0745 - accuracy: 0.7972 - val_loss: 0.0732 - val_accuracy: 0.7594\n",
            "Epoch 11/50\n",
            "2188/2188 [==============================] - 10s 5ms/step - loss: 0.0703 - accuracy: 0.7971 - val_loss: 0.0727 - val_accuracy: 0.7910\n",
            "Epoch 12/50\n",
            "2188/2188 [==============================] - 10s 5ms/step - loss: 0.0663 - accuracy: 0.7963 - val_loss: 0.0685 - val_accuracy: 0.7637\n",
            "Epoch 13/50\n",
            "2188/2188 [==============================] - 10s 5ms/step - loss: 0.0631 - accuracy: 0.7972 - val_loss: 0.0698 - val_accuracy: 0.8336\n",
            "Epoch 14/50\n",
            "2188/2188 [==============================] - 10s 4ms/step - loss: 0.0610 - accuracy: 0.7983 - val_loss: 0.0580 - val_accuracy: 0.8333\n",
            "Epoch 15/50\n",
            "2188/2188 [==============================] - 10s 4ms/step - loss: 0.0592 - accuracy: 0.7983 - val_loss: 0.0556 - val_accuracy: 0.7794\n",
            "Epoch 16/50\n",
            "2188/2188 [==============================] - 10s 5ms/step - loss: 0.0573 - accuracy: 0.7985 - val_loss: 0.0579 - val_accuracy: 0.7640\n",
            "Epoch 17/50\n",
            "2188/2188 [==============================] - 10s 4ms/step - loss: 0.0555 - accuracy: 0.7995 - val_loss: 0.0590 - val_accuracy: 0.8436\n",
            "Epoch 18/50\n",
            "2188/2188 [==============================] - 10s 4ms/step - loss: 0.0541 - accuracy: 0.7999 - val_loss: 0.0500 - val_accuracy: 0.7909\n",
            "Epoch 19/50\n",
            "2188/2188 [==============================] - 10s 4ms/step - loss: 0.0523 - accuracy: 0.7987 - val_loss: 0.0506 - val_accuracy: 0.7865\n",
            "Epoch 20/50\n",
            "2188/2188 [==============================] - 10s 4ms/step - loss: 0.0513 - accuracy: 0.7980 - val_loss: 0.0479 - val_accuracy: 0.7883\n",
            "Epoch 21/50\n",
            "2188/2188 [==============================] - 10s 4ms/step - loss: 0.0504 - accuracy: 0.7988 - val_loss: 0.0479 - val_accuracy: 0.8240\n",
            "Epoch 22/50\n",
            "2188/2188 [==============================] - 10s 5ms/step - loss: 0.0490 - accuracy: 0.7994 - val_loss: 0.0559 - val_accuracy: 0.8227\n",
            "Epoch 23/50\n",
            "2188/2188 [==============================] - 10s 5ms/step - loss: 0.0485 - accuracy: 0.8007 - val_loss: 0.0459 - val_accuracy: 0.8214\n",
            "Epoch 24/50\n",
            "2188/2188 [==============================] - 9s 4ms/step - loss: 0.0474 - accuracy: 0.8001 - val_loss: 0.0461 - val_accuracy: 0.8190\n",
            "Epoch 25/50\n",
            "2188/2188 [==============================] - 10s 4ms/step - loss: 0.0464 - accuracy: 0.8005 - val_loss: 0.0454 - val_accuracy: 0.7889\n",
            "Epoch 26/50\n",
            "2188/2188 [==============================] - 9s 4ms/step - loss: 0.0460 - accuracy: 0.8010 - val_loss: 0.0510 - val_accuracy: 0.7567\n",
            "Epoch 27/50\n",
            "2188/2188 [==============================] - 10s 4ms/step - loss: 0.0453 - accuracy: 0.8001 - val_loss: 0.0445 - val_accuracy: 0.7868\n",
            "Epoch 28/50\n",
            "2188/2188 [==============================] - 9s 4ms/step - loss: 0.0446 - accuracy: 0.8017 - val_loss: 0.0437 - val_accuracy: 0.7833\n",
            "Epoch 29/50\n",
            "2188/2188 [==============================] - 10s 4ms/step - loss: 0.0441 - accuracy: 0.8023 - val_loss: 0.0438 - val_accuracy: 0.7622\n",
            "Epoch 30/50\n",
            "2188/2188 [==============================] - 10s 4ms/step - loss: 0.0437 - accuracy: 0.8019 - val_loss: 0.0437 - val_accuracy: 0.7969\n",
            "Epoch 31/50\n",
            "2188/2188 [==============================] - 11s 5ms/step - loss: 0.0435 - accuracy: 0.8031 - val_loss: 0.0464 - val_accuracy: 0.8138\n",
            "Epoch 32/50\n",
            "2188/2188 [==============================] - 10s 5ms/step - loss: 0.0424 - accuracy: 0.8033 - val_loss: 0.0430 - val_accuracy: 0.7898\n",
            "Epoch 33/50\n",
            "2188/2188 [==============================] - 10s 4ms/step - loss: 0.0425 - accuracy: 0.8022 - val_loss: 0.0390 - val_accuracy: 0.8067\n",
            "Epoch 34/50\n",
            "2188/2188 [==============================] - 10s 5ms/step - loss: 0.0417 - accuracy: 0.8031 - val_loss: 0.0411 - val_accuracy: 0.8393\n",
            "Epoch 35/50\n",
            "2188/2188 [==============================] - 10s 5ms/step - loss: 0.0413 - accuracy: 0.8040 - val_loss: 0.0424 - val_accuracy: 0.7567\n",
            "Epoch 36/50\n",
            "2188/2188 [==============================] - 10s 4ms/step - loss: 0.0410 - accuracy: 0.8040 - val_loss: 0.0462 - val_accuracy: 0.8383\n",
            "Epoch 37/50\n",
            "2188/2188 [==============================] - 10s 5ms/step - loss: 0.0403 - accuracy: 0.8048 - val_loss: 0.0391 - val_accuracy: 0.8198\n",
            "Epoch 38/50\n",
            "2188/2188 [==============================] - 10s 4ms/step - loss: 0.0402 - accuracy: 0.8056 - val_loss: 0.0408 - val_accuracy: 0.8206\n",
            "Epoch 39/50\n",
            "2188/2188 [==============================] - 10s 4ms/step - loss: 0.0397 - accuracy: 0.8048 - val_loss: 0.0401 - val_accuracy: 0.8090\n",
            "Epoch 40/50\n",
            "2188/2188 [==============================] - 10s 4ms/step - loss: 0.0393 - accuracy: 0.8054 - val_loss: 0.0389 - val_accuracy: 0.7986\n",
            "Epoch 41/50\n",
            "2188/2188 [==============================] - 10s 5ms/step - loss: 0.0393 - accuracy: 0.8066 - val_loss: 0.0394 - val_accuracy: 0.8137\n",
            "Epoch 42/50\n",
            "2188/2188 [==============================] - 10s 5ms/step - loss: 0.0385 - accuracy: 0.8063 - val_loss: 0.0391 - val_accuracy: 0.7728\n",
            "Epoch 43/50\n",
            "2188/2188 [==============================] - 10s 4ms/step - loss: 0.0385 - accuracy: 0.8055 - val_loss: 0.0368 - val_accuracy: 0.7854\n",
            "Epoch 44/50\n",
            "2188/2188 [==============================] - 10s 4ms/step - loss: 0.0380 - accuracy: 0.8048 - val_loss: 0.0413 - val_accuracy: 0.8883\n",
            "Epoch 45/50\n",
            "2188/2188 [==============================] - 10s 4ms/step - loss: 0.0379 - accuracy: 0.8050 - val_loss: 0.0356 - val_accuracy: 0.8200\n",
            "Epoch 46/50\n",
            "2188/2188 [==============================] - 10s 5ms/step - loss: 0.0375 - accuracy: 0.8057 - val_loss: 0.0417 - val_accuracy: 0.7640\n",
            "Epoch 47/50\n",
            "2188/2188 [==============================] - 10s 4ms/step - loss: 0.0374 - accuracy: 0.8058 - val_loss: 0.0361 - val_accuracy: 0.7802\n",
            "Epoch 48/50\n",
            "2188/2188 [==============================] - 10s 4ms/step - loss: 0.0369 - accuracy: 0.8048 - val_loss: 0.0393 - val_accuracy: 0.8034\n",
            "Epoch 49/50\n",
            "2188/2188 [==============================] - 10s 4ms/step - loss: 0.0366 - accuracy: 0.8054 - val_loss: 0.0384 - val_accuracy: 0.7810\n",
            "Epoch 50/50\n",
            "2188/2188 [==============================] - 10s 4ms/step - loss: 0.0365 - accuracy: 0.8049 - val_loss: 0.0350 - val_accuracy: 0.7960\n"
          ]
        },
        {
          "output_type": "execute_result",
          "data": {
            "text/plain": [
              "<keras.callbacks.History at 0x7f8d71ba0cd0>"
            ]
          },
          "metadata": {},
          "execution_count": 17
        }
      ]
    },
    {
      "cell_type": "code",
      "source": [
        "result = model.predict([[346,387,254,132,0]])\n",
        "result = [np.round(r) for r in list(result)]\n",
        "result"
      ],
      "metadata": {
        "colab": {
          "base_uri": "https://localhost:8080/"
        },
        "id": "9y0067YVCxOa",
        "outputId": "3ff44b65-547a-4a84-c81f-8fdfbffb3db2"
      },
      "execution_count": 24,
      "outputs": [
        {
          "output_type": "execute_result",
          "data": {
            "text/plain": [
              "[array([ -0., 130., 270., 342., 387.], dtype=float32)]"
            ]
          },
          "metadata": {},
          "execution_count": 24
        }
      ]
    },
    {
      "cell_type": "markdown",
      "source": [
        "* Encode inputs - Convert numbers to matrix -\n",
        "* model should work on CNN\n",
        "* Decode output - separate neural network\n",
        "\n",
        "### Next Steps\n",
        "* Take MNIST images - unordered \n",
        "* Output - Ordered MNIST images\n",
        "* Use Conv3D networks - pass stacked images \n",
        "* For 3D - input is unordered stacked images and output is ordered stacked images. \n",
        "\n",
        "### Training \n",
        "* Train everything end-to-end {Encoder-Model-Decoder}\n",
        "* Freeze / Save the weights of the model.\n",
        "* While changing the input, just train the encoder and decoder keeping the model weights constant\n"
      ],
      "metadata": {
        "id": "iZFvkmUSHVJ2"
      }
    },
    {
      "cell_type": "code",
      "source": [
        ""
      ],
      "metadata": {
        "id": "DFaR4bf-Lt0P"
      },
      "execution_count": null,
      "outputs": []
    }
  ]
}