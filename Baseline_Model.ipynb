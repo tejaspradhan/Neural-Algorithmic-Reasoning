{
  "nbformat": 4,
  "nbformat_minor": 0,
  "metadata": {
    "colab": {
      "name": "Baseline_Model.ipynb",
      "provenance": [],
      "authorship_tag": "ABX9TyNv0oxJpy+DzGRpPgXeiJlK",
      "include_colab_link": true
    },
    "kernelspec": {
      "name": "python3",
      "display_name": "Python 3"
    },
    "language_info": {
      "name": "python"
    },
    "accelerator": "GPU"
  },
  "cells": [
    {
      "cell_type": "markdown",
      "metadata": {
        "id": "view-in-github",
        "colab_type": "text"
      },
      "source": [
        "<a href=\"https://colab.research.google.com/github/tejaspradhan/Neural-Algorithmic-Reasoning/blob/main/Baseline_Model.ipynb\" target=\"_parent\"><img src=\"https://colab.research.google.com/assets/colab-badge.svg\" alt=\"Open In Colab\"/></a>"
      ]
    },
    {
      "cell_type": "code",
      "execution_count": 1,
      "metadata": {
        "id": "sOxsdmWM6XaW"
      },
      "outputs": [],
      "source": [
        "import numpy as np\n",
        "import pandas as pd\n",
        "from tensorflow.keras.models import Sequential\n",
        "from tensorflow.keras.layers import Dense\n",
        "from sklearn.model_selection import train_test_split"
      ]
    },
    {
      "cell_type": "code",
      "source": [
        ""
      ],
      "metadata": {
        "id": "hYd8IVJV_hXa"
      },
      "execution_count": 1,
      "outputs": []
    },
    {
      "cell_type": "code",
      "source": [
        "data = pd.read_csv('https://raw.githubusercontent.com/tejaspradhan/Neural-Algorithmic-Reasoning/main/nar_data.csv')"
      ],
      "metadata": {
        "id": "M31djY_M6wOi"
      },
      "execution_count": 2,
      "outputs": []
    },
    {
      "cell_type": "code",
      "source": [
        "data.drop('Unnamed: 0',axis=1,inplace=True)"
      ],
      "metadata": {
        "id": "VQXKg_1Z65Wt"
      },
      "execution_count": 3,
      "outputs": []
    },
    {
      "cell_type": "code",
      "source": [
        "data.head()"
      ],
      "metadata": {
        "colab": {
          "base_uri": "https://localhost:8080/",
          "height": 206
        },
        "id": "gQMk9Ppc6yWl",
        "outputId": "3b04e8fe-e4b9-48ce-c8bb-aa2b917630dc"
      },
      "execution_count": 4,
      "outputs": [
        {
          "output_type": "execute_result",
          "data": {
            "text/html": [
              "<div>\n",
              "<style scoped>\n",
              "    .dataframe tbody tr th:only-of-type {\n",
              "        vertical-align: middle;\n",
              "    }\n",
              "\n",
              "    .dataframe tbody tr th {\n",
              "        vertical-align: top;\n",
              "    }\n",
              "\n",
              "    .dataframe thead th {\n",
              "        text-align: right;\n",
              "    }\n",
              "</style>\n",
              "<table border=\"1\" class=\"dataframe\">\n",
              "  <thead>\n",
              "    <tr style=\"text-align: right;\">\n",
              "      <th></th>\n",
              "      <th>I1</th>\n",
              "      <th>I2</th>\n",
              "      <th>I3</th>\n",
              "      <th>I4</th>\n",
              "      <th>I5</th>\n",
              "      <th>O1</th>\n",
              "      <th>O2</th>\n",
              "      <th>O3</th>\n",
              "      <th>O4</th>\n",
              "      <th>O5</th>\n",
              "    </tr>\n",
              "  </thead>\n",
              "  <tbody>\n",
              "    <tr>\n",
              "      <th>0</th>\n",
              "      <td>-0.150780</td>\n",
              "      <td>-0.602380</td>\n",
              "      <td>0.702690</td>\n",
              "      <td>0.829351</td>\n",
              "      <td>0.051058</td>\n",
              "      <td>-0.602380</td>\n",
              "      <td>-0.150780</td>\n",
              "      <td>0.051058</td>\n",
              "      <td>0.702690</td>\n",
              "      <td>0.829351</td>\n",
              "    </tr>\n",
              "    <tr>\n",
              "      <th>1</th>\n",
              "      <td>-0.011036</td>\n",
              "      <td>1.895970</td>\n",
              "      <td>-1.812386</td>\n",
              "      <td>-0.579290</td>\n",
              "      <td>-0.971200</td>\n",
              "      <td>-1.812386</td>\n",
              "      <td>-0.971200</td>\n",
              "      <td>-0.579290</td>\n",
              "      <td>-0.011036</td>\n",
              "      <td>1.895970</td>\n",
              "    </tr>\n",
              "    <tr>\n",
              "      <th>2</th>\n",
              "      <td>1.014596</td>\n",
              "      <td>-1.216308</td>\n",
              "      <td>-0.916381</td>\n",
              "      <td>-1.153549</td>\n",
              "      <td>-0.185069</td>\n",
              "      <td>-1.216308</td>\n",
              "      <td>-1.153549</td>\n",
              "      <td>-0.916381</td>\n",
              "      <td>-0.185069</td>\n",
              "      <td>1.014596</td>\n",
              "    </tr>\n",
              "    <tr>\n",
              "      <th>3</th>\n",
              "      <td>1.194529</td>\n",
              "      <td>0.079426</td>\n",
              "      <td>1.010069</td>\n",
              "      <td>-0.061946</td>\n",
              "      <td>1.108565</td>\n",
              "      <td>-0.061946</td>\n",
              "      <td>0.079426</td>\n",
              "      <td>1.010069</td>\n",
              "      <td>1.108565</td>\n",
              "      <td>1.194529</td>\n",
              "    </tr>\n",
              "    <tr>\n",
              "      <th>4</th>\n",
              "      <td>-1.173676</td>\n",
              "      <td>0.378997</td>\n",
              "      <td>-1.863175</td>\n",
              "      <td>-1.350366</td>\n",
              "      <td>2.006267</td>\n",
              "      <td>-1.863175</td>\n",
              "      <td>-1.350366</td>\n",
              "      <td>-1.173676</td>\n",
              "      <td>0.378997</td>\n",
              "      <td>2.006267</td>\n",
              "    </tr>\n",
              "  </tbody>\n",
              "</table>\n",
              "</div>"
            ],
            "text/plain": [
              "         I1        I2        I3  ...        O3        O4        O5\n",
              "0 -0.150780 -0.602380  0.702690  ...  0.051058  0.702690  0.829351\n",
              "1 -0.011036  1.895970 -1.812386  ... -0.579290 -0.011036  1.895970\n",
              "2  1.014596 -1.216308 -0.916381  ... -0.916381 -0.185069  1.014596\n",
              "3  1.194529  0.079426  1.010069  ...  1.010069  1.108565  1.194529\n",
              "4 -1.173676  0.378997 -1.863175  ... -1.173676  0.378997  2.006267\n",
              "\n",
              "[5 rows x 10 columns]"
            ]
          },
          "metadata": {},
          "execution_count": 4
        }
      ]
    },
    {
      "cell_type": "code",
      "source": [
        "model=Sequential()\n",
        "model.add(Dense(10,activation='tanh'))\n",
        "model.add(Dense(100,activation='tanh'))\n",
        "model.add(Dense(10,activation='tanh'))\n",
        "model.add(Dense(5))"
      ],
      "metadata": {
        "id": "FEPqp8HWAN8F"
      },
      "execution_count": 7,
      "outputs": []
    },
    {
      "cell_type": "code",
      "source": [
        "model.compile(loss='mean_squared_error',optimizer = 'adam',metrics=['accuracy'])"
      ],
      "metadata": {
        "id": "4y70Fr5C63Id"
      },
      "execution_count": 8,
      "outputs": []
    },
    {
      "cell_type": "code",
      "source": [
        "x,y = data[['I1','I2','I3','I4','I5']] , data[['O1','O2','O3','O4','O5']]"
      ],
      "metadata": {
        "id": "xw3wisH-71bs"
      },
      "execution_count": 9,
      "outputs": []
    },
    {
      "cell_type": "code",
      "source": [
        "x_train,x_test,y_train, y_test = train_test_split(x,y,random_state=42,test_size=0.3)"
      ],
      "metadata": {
        "id": "G1gL9Rcr8HLx"
      },
      "execution_count": 10,
      "outputs": []
    },
    {
      "cell_type": "code",
      "source": [
        ""
      ],
      "metadata": {
        "id": "B5h9AXTEAOkv"
      },
      "execution_count": 10,
      "outputs": []
    },
    {
      "cell_type": "code",
      "source": [
        "model.fit(x_train,y_train,validation_data=(x_test,y_test),epochs=50)"
      ],
      "metadata": {
        "colab": {
          "base_uri": "https://localhost:8080/"
        },
        "id": "l5OU6Rev8dQJ",
        "outputId": "0aad1dfe-bb08-49e6-f31f-16a8306fe542"
      },
      "execution_count": 11,
      "outputs": [
        {
          "output_type": "stream",
          "name": "stdout",
          "text": [
            "Epoch 1/50\n",
            "2188/2188 [==============================] - 13s 5ms/step - loss: 0.1385 - accuracy: 0.9820 - val_loss: 0.0706 - val_accuracy: 0.9991\n",
            "Epoch 2/50\n",
            "2188/2188 [==============================] - 11s 5ms/step - loss: 0.0535 - accuracy: 0.9914 - val_loss: 0.0442 - val_accuracy: 0.9844\n",
            "Epoch 3/50\n",
            "2188/2188 [==============================] - 11s 5ms/step - loss: 0.0416 - accuracy: 0.9820 - val_loss: 0.0406 - val_accuracy: 0.9811\n",
            "Epoch 4/50\n",
            "2188/2188 [==============================] - 11s 5ms/step - loss: 0.0384 - accuracy: 0.9831 - val_loss: 0.0363 - val_accuracy: 0.9825\n",
            "Epoch 5/50\n",
            "2188/2188 [==============================] - 11s 5ms/step - loss: 0.0331 - accuracy: 0.9915 - val_loss: 0.0302 - val_accuracy: 0.9927\n",
            "Epoch 6/50\n",
            "2188/2188 [==============================] - 11s 5ms/step - loss: 0.0285 - accuracy: 0.9904 - val_loss: 0.0262 - val_accuracy: 0.9894\n",
            "Epoch 7/50\n",
            "2188/2188 [==============================] - 11s 5ms/step - loss: 0.0244 - accuracy: 0.9865 - val_loss: 0.0235 - val_accuracy: 0.9864\n",
            "Epoch 8/50\n",
            "2188/2188 [==============================] - 11s 5ms/step - loss: 0.0223 - accuracy: 0.9804 - val_loss: 0.0213 - val_accuracy: 0.9793\n",
            "Epoch 9/50\n",
            "2188/2188 [==============================] - 11s 5ms/step - loss: 0.0210 - accuracy: 0.9775 - val_loss: 0.0203 - val_accuracy: 0.9739\n",
            "Epoch 10/50\n",
            "2188/2188 [==============================] - 11s 5ms/step - loss: 0.0202 - accuracy: 0.9751 - val_loss: 0.0203 - val_accuracy: 0.9808\n",
            "Epoch 11/50\n",
            "2188/2188 [==============================] - 11s 5ms/step - loss: 0.0194 - accuracy: 0.9735 - val_loss: 0.0193 - val_accuracy: 0.9840\n",
            "Epoch 12/50\n",
            "2188/2188 [==============================] - 11s 5ms/step - loss: 0.0188 - accuracy: 0.9740 - val_loss: 0.0187 - val_accuracy: 0.9678\n",
            "Epoch 13/50\n",
            "2188/2188 [==============================] - 11s 5ms/step - loss: 0.0180 - accuracy: 0.9733 - val_loss: 0.0175 - val_accuracy: 0.9650\n",
            "Epoch 14/50\n",
            "2188/2188 [==============================] - 11s 5ms/step - loss: 0.0171 - accuracy: 0.9755 - val_loss: 0.0165 - val_accuracy: 0.9773\n",
            "Epoch 15/50\n",
            "2188/2188 [==============================] - 11s 5ms/step - loss: 0.0160 - accuracy: 0.9779 - val_loss: 0.0154 - val_accuracy: 0.9796\n",
            "Epoch 16/50\n",
            "2188/2188 [==============================] - 11s 5ms/step - loss: 0.0148 - accuracy: 0.9843 - val_loss: 0.0143 - val_accuracy: 0.9857\n",
            "Epoch 17/50\n",
            "2188/2188 [==============================] - 11s 5ms/step - loss: 0.0138 - accuracy: 0.9907 - val_loss: 0.0131 - val_accuracy: 0.9960\n",
            "Epoch 18/50\n",
            "2188/2188 [==============================] - 11s 5ms/step - loss: 0.0130 - accuracy: 0.9957 - val_loss: 0.0129 - val_accuracy: 0.9990\n",
            "Epoch 19/50\n",
            "2188/2188 [==============================] - 11s 5ms/step - loss: 0.0123 - accuracy: 0.9974 - val_loss: 0.0114 - val_accuracy: 0.9987\n",
            "Epoch 20/50\n",
            "2188/2188 [==============================] - 11s 5ms/step - loss: 0.0117 - accuracy: 0.9987 - val_loss: 0.0130 - val_accuracy: 0.9999\n",
            "Epoch 21/50\n",
            "2188/2188 [==============================] - 11s 5ms/step - loss: 0.0112 - accuracy: 0.9991 - val_loss: 0.0111 - val_accuracy: 0.9998\n",
            "Epoch 22/50\n",
            "2188/2188 [==============================] - 11s 5ms/step - loss: 0.0108 - accuracy: 0.9992 - val_loss: 0.0105 - val_accuracy: 0.9994\n",
            "Epoch 23/50\n",
            "2188/2188 [==============================] - 11s 5ms/step - loss: 0.0104 - accuracy: 0.9995 - val_loss: 0.0105 - val_accuracy: 1.0000\n",
            "Epoch 24/50\n",
            "2188/2188 [==============================] - 11s 5ms/step - loss: 0.0101 - accuracy: 0.9993 - val_loss: 0.0112 - val_accuracy: 0.9975\n",
            "Epoch 25/50\n",
            "2188/2188 [==============================] - 11s 5ms/step - loss: 0.0098 - accuracy: 0.9993 - val_loss: 0.0093 - val_accuracy: 0.9998\n",
            "Epoch 26/50\n",
            "2188/2188 [==============================] - 11s 5ms/step - loss: 0.0095 - accuracy: 0.9991 - val_loss: 0.0098 - val_accuracy: 0.9998\n",
            "Epoch 27/50\n",
            "2188/2188 [==============================] - 11s 5ms/step - loss: 0.0092 - accuracy: 0.9994 - val_loss: 0.0104 - val_accuracy: 0.9993\n",
            "Epoch 28/50\n",
            "2188/2188 [==============================] - 11s 5ms/step - loss: 0.0090 - accuracy: 0.9990 - val_loss: 0.0094 - val_accuracy: 0.9994\n",
            "Epoch 29/50\n",
            "2188/2188 [==============================] - 11s 5ms/step - loss: 0.0089 - accuracy: 0.9991 - val_loss: 0.0091 - val_accuracy: 0.9993\n",
            "Epoch 30/50\n",
            "2188/2188 [==============================] - 11s 5ms/step - loss: 0.0086 - accuracy: 0.9986 - val_loss: 0.0089 - val_accuracy: 0.9995\n",
            "Epoch 31/50\n",
            "2188/2188 [==============================] - 11s 5ms/step - loss: 0.0085 - accuracy: 0.9990 - val_loss: 0.0082 - val_accuracy: 0.9998\n",
            "Epoch 32/50\n",
            "2188/2188 [==============================] - 11s 5ms/step - loss: 0.0083 - accuracy: 0.9987 - val_loss: 0.0081 - val_accuracy: 0.9995\n",
            "Epoch 33/50\n",
            "2188/2188 [==============================] - 11s 5ms/step - loss: 0.0082 - accuracy: 0.9987 - val_loss: 0.0082 - val_accuracy: 0.9977\n",
            "Epoch 34/50\n",
            "2188/2188 [==============================] - 11s 5ms/step - loss: 0.0080 - accuracy: 0.9989 - val_loss: 0.0080 - val_accuracy: 0.9995\n",
            "Epoch 35/50\n",
            "2188/2188 [==============================] - 11s 5ms/step - loss: 0.0079 - accuracy: 0.9989 - val_loss: 0.0077 - val_accuracy: 0.9997\n",
            "Epoch 36/50\n",
            "2188/2188 [==============================] - 11s 5ms/step - loss: 0.0078 - accuracy: 0.9987 - val_loss: 0.0079 - val_accuracy: 0.9984\n",
            "Epoch 37/50\n",
            "2188/2188 [==============================] - 11s 5ms/step - loss: 0.0077 - accuracy: 0.9988 - val_loss: 0.0080 - val_accuracy: 0.9991\n",
            "Epoch 38/50\n",
            "2188/2188 [==============================] - 11s 5ms/step - loss: 0.0076 - accuracy: 0.9985 - val_loss: 0.0079 - val_accuracy: 0.9996\n",
            "Epoch 39/50\n",
            "2188/2188 [==============================] - 11s 5ms/step - loss: 0.0075 - accuracy: 0.9984 - val_loss: 0.0079 - val_accuracy: 0.9996\n",
            "Epoch 40/50\n",
            "2188/2188 [==============================] - 11s 5ms/step - loss: 0.0074 - accuracy: 0.9986 - val_loss: 0.0075 - val_accuracy: 0.9966\n",
            "Epoch 41/50\n",
            "2188/2188 [==============================] - 11s 5ms/step - loss: 0.0073 - accuracy: 0.9983 - val_loss: 0.0073 - val_accuracy: 0.9994\n",
            "Epoch 42/50\n",
            "2188/2188 [==============================] - 11s 5ms/step - loss: 0.0072 - accuracy: 0.9983 - val_loss: 0.0070 - val_accuracy: 0.9986\n",
            "Epoch 43/50\n",
            "2188/2188 [==============================] - 11s 5ms/step - loss: 0.0071 - accuracy: 0.9983 - val_loss: 0.0069 - val_accuracy: 0.9994\n",
            "Epoch 44/50\n",
            "2188/2188 [==============================] - 11s 5ms/step - loss: 0.0071 - accuracy: 0.9981 - val_loss: 0.0069 - val_accuracy: 0.9999\n",
            "Epoch 45/50\n",
            "2188/2188 [==============================] - 11s 5ms/step - loss: 0.0070 - accuracy: 0.9981 - val_loss: 0.0072 - val_accuracy: 0.9989\n",
            "Epoch 46/50\n",
            "2188/2188 [==============================] - 11s 5ms/step - loss: 0.0069 - accuracy: 0.9979 - val_loss: 0.0074 - val_accuracy: 0.9986\n",
            "Epoch 47/50\n",
            "2188/2188 [==============================] - 11s 5ms/step - loss: 0.0069 - accuracy: 0.9973 - val_loss: 0.0070 - val_accuracy: 0.9958\n",
            "Epoch 48/50\n",
            "2188/2188 [==============================] - 11s 5ms/step - loss: 0.0068 - accuracy: 0.9978 - val_loss: 0.0069 - val_accuracy: 0.9996\n",
            "Epoch 49/50\n",
            "2188/2188 [==============================] - 11s 5ms/step - loss: 0.0067 - accuracy: 0.9972 - val_loss: 0.0069 - val_accuracy: 0.9896\n",
            "Epoch 50/50\n",
            "2188/2188 [==============================] - 11s 5ms/step - loss: 0.0067 - accuracy: 0.9971 - val_loss: 0.0066 - val_accuracy: 0.9993\n"
          ]
        },
        {
          "output_type": "execute_result",
          "data": {
            "text/plain": [
              "<keras.callbacks.History at 0x7f95802d35d0>"
            ]
          },
          "metadata": {},
          "execution_count": 11
        }
      ]
    },
    {
      "cell_type": "code",
      "source": [
        "model.predict([[0.5,0.3,0.1,0.2,0.4]])"
      ],
      "metadata": {
        "colab": {
          "base_uri": "https://localhost:8080/"
        },
        "id": "gLAK6f2x8zua",
        "outputId": "6e269945-1a68-4505-f0c9-b682cfa46464"
      },
      "execution_count": 12,
      "outputs": [
        {
          "output_type": "execute_result",
          "data": {
            "text/plain": [
              "array([[0.04338762, 0.2392655 , 0.31173447, 0.31477422, 0.59594405]],\n",
              "      dtype=float32)"
            ]
          },
          "metadata": {},
          "execution_count": 12
        }
      ]
    },
    {
      "cell_type": "code",
      "source": [
        ""
      ],
      "metadata": {
        "id": "WbX8O7ynAGwS"
      },
      "execution_count": 12,
      "outputs": []
    },
    {
      "cell_type": "code",
      "source": [
        ""
      ],
      "metadata": {
        "id": "LRuv7vMoAHAO"
      },
      "execution_count": 12,
      "outputs": []
    },
    {
      "cell_type": "code",
      "source": [
        "data = []\n",
        "for i in range(100000):\n",
        "  data_pt = list(np.random.randint(1,10,size=5))\n",
        "  data.append(data_pt + sorted(data_pt))"
      ],
      "metadata": {
        "id": "wB932IuG_XhW"
      },
      "execution_count": 2,
      "outputs": []
    },
    {
      "cell_type": "code",
      "source": [
        "data = np.array(data)"
      ],
      "metadata": {
        "id": "JOtEh2fV_XpC"
      },
      "execution_count": 3,
      "outputs": []
    },
    {
      "cell_type": "code",
      "source": [
        "data = pd.DataFrame(data)\n",
        "data.columns = ['I1', 'I2', 'I3', 'I4', 'I5', 'O1', 'O2', 'O3', 'O4', 'O5']"
      ],
      "metadata": {
        "id": "mX966Awg_Xu1"
      },
      "execution_count": 4,
      "outputs": []
    },
    {
      "cell_type": "code",
      "source": [
        "x,y = data[['I1','I2','I3','I4','I5']] , data[['O1','O2','O3','O4','O5']]"
      ],
      "metadata": {
        "id": "U6dAlf-LDl31"
      },
      "execution_count": 5,
      "outputs": []
    },
    {
      "cell_type": "code",
      "source": [
        "x_train,x_test,y_train, y_test = train_test_split(x,y,random_state=42,test_size=0.3)"
      ],
      "metadata": {
        "id": "CMw4LnYsDoUL"
      },
      "execution_count": 6,
      "outputs": []
    },
    {
      "cell_type": "code",
      "source": [
        "model=Sequential()\n",
        "model.add(Dense(10,activation='relu'))\n",
        "model.add(Dense(100,activation='relu'))\n",
        "model.add(Dense(10,activation='relu'))\n",
        "model.add(Dense(5))"
      ],
      "metadata": {
        "id": "zLoIRavu60aA"
      },
      "execution_count": 7,
      "outputs": []
    },
    {
      "cell_type": "code",
      "source": [
        "model.compile(loss='mean_squared_error',optimizer = 'adam',metrics=['accuracy'])"
      ],
      "metadata": {
        "id": "TwhoODFO85ff"
      },
      "execution_count": 8,
      "outputs": []
    },
    {
      "cell_type": "code",
      "source": [
        "model.fit(x_train,y_train,validation_data=(x_test,y_test),epochs=50)"
      ],
      "metadata": {
        "colab": {
          "base_uri": "https://localhost:8080/"
        },
        "id": "0tG3J8mNAXGS",
        "outputId": "18e9f741-0104-44ec-f1ee-7afcbc819741"
      },
      "execution_count": 9,
      "outputs": [
        {
          "output_type": "stream",
          "name": "stdout",
          "text": [
            "Epoch 1/50\n",
            "2188/2188 [==============================] - 13s 5ms/step - loss: 1.2719 - accuracy: 0.7285 - val_loss: 0.5094 - val_accuracy: 0.7414\n",
            "Epoch 2/50\n",
            "2188/2188 [==============================] - 11s 5ms/step - loss: 0.3796 - accuracy: 0.7383 - val_loss: 0.3100 - val_accuracy: 0.7389\n",
            "Epoch 3/50\n",
            "2188/2188 [==============================] - 10s 5ms/step - loss: 0.3013 - accuracy: 0.7383 - val_loss: 0.2949 - val_accuracy: 0.7387\n",
            "Epoch 4/50\n",
            "2188/2188 [==============================] - 11s 5ms/step - loss: 0.2922 - accuracy: 0.7392 - val_loss: 0.2871 - val_accuracy: 0.7409\n",
            "Epoch 5/50\n",
            "2188/2188 [==============================] - 11s 5ms/step - loss: 0.2873 - accuracy: 0.7400 - val_loss: 0.2839 - val_accuracy: 0.7404\n",
            "Epoch 6/50\n",
            "2188/2188 [==============================] - 11s 5ms/step - loss: 0.2844 - accuracy: 0.7404 - val_loss: 0.2836 - val_accuracy: 0.7413\n",
            "Epoch 7/50\n",
            "2188/2188 [==============================] - 11s 5ms/step - loss: 0.2821 - accuracy: 0.7406 - val_loss: 0.2782 - val_accuracy: 0.7419\n",
            "Epoch 8/50\n",
            "2188/2188 [==============================] - 11s 5ms/step - loss: 0.2806 - accuracy: 0.7413 - val_loss: 0.2780 - val_accuracy: 0.7430\n",
            "Epoch 9/50\n",
            "2188/2188 [==============================] - 11s 5ms/step - loss: 0.2792 - accuracy: 0.7412 - val_loss: 0.2797 - val_accuracy: 0.7431\n",
            "Epoch 10/50\n",
            "2188/2188 [==============================] - 11s 5ms/step - loss: 0.2780 - accuracy: 0.7421 - val_loss: 0.2767 - val_accuracy: 0.7443\n",
            "Epoch 11/50\n",
            "2188/2188 [==============================] - 11s 5ms/step - loss: 0.2773 - accuracy: 0.7415 - val_loss: 0.2758 - val_accuracy: 0.7441\n",
            "Epoch 12/50\n",
            "2188/2188 [==============================] - 10s 5ms/step - loss: 0.2761 - accuracy: 0.7415 - val_loss: 0.2759 - val_accuracy: 0.7436\n",
            "Epoch 13/50\n",
            "2188/2188 [==============================] - 10s 5ms/step - loss: 0.2757 - accuracy: 0.7420 - val_loss: 0.2727 - val_accuracy: 0.7436\n",
            "Epoch 14/50\n",
            "2188/2188 [==============================] - 11s 5ms/step - loss: 0.2750 - accuracy: 0.7420 - val_loss: 0.2735 - val_accuracy: 0.7443\n",
            "Epoch 15/50\n",
            "2188/2188 [==============================] - 11s 5ms/step - loss: 0.2745 - accuracy: 0.7420 - val_loss: 0.2738 - val_accuracy: 0.7441\n",
            "Epoch 16/50\n",
            "2188/2188 [==============================] - 11s 5ms/step - loss: 0.2739 - accuracy: 0.7424 - val_loss: 0.2714 - val_accuracy: 0.7444\n",
            "Epoch 17/50\n",
            "2188/2188 [==============================] - 11s 5ms/step - loss: 0.2736 - accuracy: 0.7421 - val_loss: 0.2723 - val_accuracy: 0.7445\n",
            "Epoch 18/50\n",
            "2188/2188 [==============================] - 11s 5ms/step - loss: 0.2732 - accuracy: 0.7426 - val_loss: 0.2738 - val_accuracy: 0.7447\n",
            "Epoch 19/50\n",
            "2188/2188 [==============================] - 11s 5ms/step - loss: 0.2726 - accuracy: 0.7430 - val_loss: 0.2724 - val_accuracy: 0.7451\n",
            "Epoch 20/50\n",
            "2188/2188 [==============================] - 10s 5ms/step - loss: 0.2725 - accuracy: 0.7427 - val_loss: 0.2733 - val_accuracy: 0.7441\n",
            "Epoch 21/50\n",
            "2188/2188 [==============================] - 11s 5ms/step - loss: 0.2720 - accuracy: 0.7438 - val_loss: 0.2730 - val_accuracy: 0.7448\n",
            "Epoch 22/50\n",
            "2188/2188 [==============================] - 11s 5ms/step - loss: 0.2718 - accuracy: 0.7432 - val_loss: 0.2703 - val_accuracy: 0.7458\n",
            "Epoch 23/50\n",
            "2188/2188 [==============================] - 11s 5ms/step - loss: 0.2714 - accuracy: 0.7431 - val_loss: 0.2706 - val_accuracy: 0.7457\n",
            "Epoch 24/50\n",
            "2188/2188 [==============================] - 11s 5ms/step - loss: 0.2709 - accuracy: 0.7430 - val_loss: 0.2697 - val_accuracy: 0.7458\n",
            "Epoch 25/50\n",
            "2188/2188 [==============================] - 11s 5ms/step - loss: 0.2708 - accuracy: 0.7436 - val_loss: 0.2699 - val_accuracy: 0.7456\n",
            "Epoch 26/50\n",
            "2188/2188 [==============================] - 11s 5ms/step - loss: 0.2704 - accuracy: 0.7438 - val_loss: 0.2706 - val_accuracy: 0.7455\n",
            "Epoch 27/50\n",
            "2188/2188 [==============================] - 10s 5ms/step - loss: 0.2702 - accuracy: 0.7446 - val_loss: 0.2696 - val_accuracy: 0.7452\n",
            "Epoch 28/50\n",
            "2188/2188 [==============================] - 11s 5ms/step - loss: 0.2699 - accuracy: 0.7441 - val_loss: 0.2695 - val_accuracy: 0.7459\n",
            "Epoch 29/50\n",
            "2188/2188 [==============================] - 11s 5ms/step - loss: 0.2695 - accuracy: 0.7448 - val_loss: 0.2694 - val_accuracy: 0.7454\n",
            "Epoch 30/50\n",
            "2188/2188 [==============================] - 11s 5ms/step - loss: 0.2695 - accuracy: 0.7446 - val_loss: 0.2687 - val_accuracy: 0.7456\n",
            "Epoch 31/50\n",
            "2188/2188 [==============================] - 11s 5ms/step - loss: 0.2691 - accuracy: 0.7447 - val_loss: 0.2682 - val_accuracy: 0.7459\n",
            "Epoch 32/50\n",
            "2188/2188 [==============================] - 11s 5ms/step - loss: 0.2687 - accuracy: 0.7449 - val_loss: 0.2667 - val_accuracy: 0.7467\n",
            "Epoch 33/50\n",
            "2188/2188 [==============================] - 10s 5ms/step - loss: 0.2687 - accuracy: 0.7452 - val_loss: 0.2693 - val_accuracy: 0.7470\n",
            "Epoch 34/50\n",
            "2188/2188 [==============================] - 11s 5ms/step - loss: 0.2686 - accuracy: 0.7452 - val_loss: 0.2678 - val_accuracy: 0.7479\n",
            "Epoch 35/50\n",
            "2188/2188 [==============================] - 11s 5ms/step - loss: 0.2680 - accuracy: 0.7455 - val_loss: 0.2680 - val_accuracy: 0.7466\n",
            "Epoch 36/50\n",
            "2188/2188 [==============================] - 11s 5ms/step - loss: 0.2680 - accuracy: 0.7450 - val_loss: 0.2666 - val_accuracy: 0.7461\n",
            "Epoch 37/50\n",
            "2188/2188 [==============================] - 11s 5ms/step - loss: 0.2678 - accuracy: 0.7456 - val_loss: 0.2659 - val_accuracy: 0.7477\n",
            "Epoch 38/50\n",
            "2188/2188 [==============================] - 11s 5ms/step - loss: 0.2676 - accuracy: 0.7455 - val_loss: 0.2652 - val_accuracy: 0.7467\n",
            "Epoch 39/50\n",
            "2188/2188 [==============================] - 10s 5ms/step - loss: 0.2674 - accuracy: 0.7457 - val_loss: 0.2657 - val_accuracy: 0.7467\n",
            "Epoch 40/50\n",
            "2188/2188 [==============================] - 11s 5ms/step - loss: 0.2671 - accuracy: 0.7459 - val_loss: 0.2664 - val_accuracy: 0.7481\n",
            "Epoch 41/50\n",
            "2188/2188 [==============================] - 12s 5ms/step - loss: 0.2669 - accuracy: 0.7461 - val_loss: 0.2648 - val_accuracy: 0.7478\n",
            "Epoch 42/50\n",
            "2188/2188 [==============================] - 11s 5ms/step - loss: 0.2667 - accuracy: 0.7455 - val_loss: 0.2662 - val_accuracy: 0.7480\n",
            "Epoch 43/50\n",
            "2188/2188 [==============================] - 12s 5ms/step - loss: 0.2666 - accuracy: 0.7462 - val_loss: 0.2666 - val_accuracy: 0.7469\n",
            "Epoch 44/50\n",
            "2188/2188 [==============================] - 11s 5ms/step - loss: 0.2663 - accuracy: 0.7462 - val_loss: 0.2649 - val_accuracy: 0.7480\n",
            "Epoch 45/50\n",
            "2188/2188 [==============================] - 10s 5ms/step - loss: 0.2661 - accuracy: 0.7465 - val_loss: 0.2648 - val_accuracy: 0.7489\n",
            "Epoch 46/50\n",
            "2188/2188 [==============================] - 11s 5ms/step - loss: 0.2660 - accuracy: 0.7465 - val_loss: 0.2638 - val_accuracy: 0.7484\n",
            "Epoch 47/50\n",
            "2188/2188 [==============================] - 11s 5ms/step - loss: 0.2658 - accuracy: 0.7468 - val_loss: 0.2654 - val_accuracy: 0.7479\n",
            "Epoch 48/50\n",
            "2188/2188 [==============================] - 11s 5ms/step - loss: 0.2656 - accuracy: 0.7467 - val_loss: 0.2638 - val_accuracy: 0.7493\n",
            "Epoch 49/50\n",
            "2188/2188 [==============================] - 11s 5ms/step - loss: 0.2656 - accuracy: 0.7473 - val_loss: 0.2654 - val_accuracy: 0.7478\n",
            "Epoch 50/50\n",
            "2188/2188 [==============================] - 11s 5ms/step - loss: 0.2654 - accuracy: 0.7471 - val_loss: 0.2652 - val_accuracy: 0.7476\n"
          ]
        },
        {
          "output_type": "execute_result",
          "data": {
            "text/plain": [
              "<keras.callbacks.History at 0x7f3dc68fdb90>"
            ]
          },
          "metadata": {},
          "execution_count": 9
        }
      ]
    },
    {
      "cell_type": "code",
      "source": [
        "result = model.predict([[5,6,3,2,1]])\n",
        "result = [np.round(r) for r in list(result)]\n",
        "result"
      ],
      "metadata": {
        "colab": {
          "base_uri": "https://localhost:8080/"
        },
        "id": "9y0067YVCxOa",
        "outputId": "e990e25d-129a-4aa9-b757-e557e43d9a47"
      },
      "execution_count": 12,
      "outputs": [
        {
          "output_type": "execute_result",
          "data": {
            "text/plain": [
              "[array([1., 2., 3., 4., 6.], dtype=float32)]"
            ]
          },
          "metadata": {},
          "execution_count": 12
        }
      ]
    },
    {
      "cell_type": "code",
      "source": [
        ""
      ],
      "metadata": {
        "id": "iZFvkmUSHVJ2"
      },
      "execution_count": null,
      "outputs": []
    }
  ]
}