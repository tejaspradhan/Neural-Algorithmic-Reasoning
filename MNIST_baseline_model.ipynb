{
  "nbformat": 4,
  "nbformat_minor": 0,
  "metadata": {
    "colab": {
      "name": "MNIST_baseline_model.ipynb",
      "provenance": [],
      "collapsed_sections": [],
      "include_colab_link": true
    },
    "kernelspec": {
      "name": "python3",
      "display_name": "Python 3"
    },
    "language_info": {
      "name": "python"
    },
    "accelerator": "GPU"
  },
  "cells": [
    {
      "cell_type": "markdown",
      "metadata": {
        "id": "view-in-github",
        "colab_type": "text"
      },
      "source": [
        "<a href=\"https://colab.research.google.com/github/tejaspradhan/Neural-Algorithmic-Reasoning/blob/main/MNIST_baseline_model.ipynb\" target=\"_parent\"><img src=\"https://colab.research.google.com/assets/colab-badge.svg\" alt=\"Open In Colab\"/></a>"
      ]
    },
    {
      "cell_type": "code",
      "execution_count": 2,
      "metadata": {
        "id": "R5zr922SAVde"
      },
      "outputs": [],
      "source": [
        "import numpy as np\n",
        "import matplotlib.pyplot as plt\n",
        "from tensorflow.keras.models import Sequential\n",
        "from tensorflow.keras.layers import Conv3D, MaxPool3D, Dense, Flatten, Dropout\n",
        "from tensorflow import random\n",
        "%matplotlib inline"
      ]
    },
    {
      "cell_type": "code",
      "source": [
        "data = np.load(\"/content/train_image_data.npz\", allow_pickle=True)"
      ],
      "metadata": {
        "id": "SG7A9GbBBJWo"
      },
      "execution_count": 4,
      "outputs": []
    },
    {
      "cell_type": "code",
      "source": [
        "x, y= data[\"x\"], data[\"y\"]"
      ],
      "metadata": {
        "id": "HZnpkDLpBpaz"
      },
      "execution_count": 5,
      "outputs": []
    },
    {
      "cell_type": "code",
      "source": [
        "from sklearn.model_selection import train_test_split"
      ],
      "metadata": {
        "id": "RGjJafcwCULs"
      },
      "execution_count": null,
      "outputs": []
    },
    {
      "cell_type": "code",
      "source": [
        "X_train, X_test, y_train, y_test = train_test_split(x, y, test_size = 0.3, random_state=42)"
      ],
      "metadata": {
        "id": "_7nHs8quBoCk"
      },
      "execution_count": null,
      "outputs": []
    },
    {
      "cell_type": "code",
      "source": [
        "X_train.shape"
      ],
      "metadata": {
        "colab": {
          "base_uri": "https://localhost:8080/"
        },
        "id": "IJts5ZfBCrIr",
        "outputId": "ca5b62eb-0cb7-4fea-e92e-b9cd6e7482b5"
      },
      "execution_count": null,
      "outputs": [
        {
          "output_type": "execute_result",
          "data": {
            "text/plain": [
              "(14000, 3, 28, 28)"
            ]
          },
          "metadata": {},
          "execution_count": 58
        }
      ]
    },
    {
      "cell_type": "code",
      "source": [
        "#np.array([X_train]).shape"
      ],
      "metadata": {
        "id": "kjJvaIJiCskd"
      },
      "execution_count": null,
      "outputs": []
    },
    {
      "cell_type": "code",
      "source": [
        "X_train = X_train.reshape(X_train.shape[0], 3, 28, 28, 1)"
      ],
      "metadata": {
        "id": "YSKeHUmqC-_f"
      },
      "execution_count": null,
      "outputs": []
    },
    {
      "cell_type": "code",
      "source": [
        "X_train.shape"
      ],
      "metadata": {
        "colab": {
          "base_uri": "https://localhost:8080/"
        },
        "id": "zW4R_WI3DMxg",
        "outputId": "6d514c69-90e3-4c4a-f907-c33fbddca2fe"
      },
      "execution_count": null,
      "outputs": [
        {
          "output_type": "execute_result",
          "data": {
            "text/plain": [
              "(14000, 3, 28, 28, 1)"
            ]
          },
          "metadata": {},
          "execution_count": 61
        }
      ]
    },
    {
      "cell_type": "code",
      "source": [
        "X_test = X_test.reshape(X_test.shape[0], 3, 28, 28, 1)"
      ],
      "metadata": {
        "id": "cVno5xB2DOK3"
      },
      "execution_count": null,
      "outputs": []
    },
    {
      "cell_type": "code",
      "source": [
        "X_test.shape"
      ],
      "metadata": {
        "colab": {
          "base_uri": "https://localhost:8080/"
        },
        "id": "1XH6GIc7DVfG",
        "outputId": "073c4a71-4d6b-4f47-c3f4-2189f2cd7075"
      },
      "execution_count": null,
      "outputs": [
        {
          "output_type": "execute_result",
          "data": {
            "text/plain": [
              "(6000, 3, 28, 28, 1)"
            ]
          },
          "metadata": {},
          "execution_count": 63
        }
      ]
    },
    {
      "cell_type": "code",
      "source": [
        "random.set_seed(42)\n",
        "\n",
        "model = Sequential()\n",
        "model.add(Conv3D(256, 3, data_format= \"channels_last\", input_shape=(3,28,28,1), padding='same', activation='relu'))\n",
        "model.add(MaxPool3D(pool_size=(2, 2, 2)))\n",
        "model.add(Conv3D(256, 3,padding='same'))\n",
        "#model.add(MaxPool3D(pool_size=(2, 2, 2)))\n",
        "model.add(Flatten())\n",
        "model.add(Dense(64, activation='relu'))\n",
        "model.add(Dense(64, activation='relu'))\n",
        "model.add(Dense(32, activation='relu'))\n",
        "model.add(Dense(3, activation='relu'))\n",
        "model.summary()"
      ],
      "metadata": {
        "colab": {
          "base_uri": "https://localhost:8080/"
        },
        "id": "HfrLtdybDZYc",
        "outputId": "11f72d68-3515-4982-8cd5-8bda9c5b2716"
      },
      "execution_count": null,
      "outputs": [
        {
          "output_type": "stream",
          "name": "stdout",
          "text": [
            "Model: \"sequential_10\"\n",
            "_________________________________________________________________\n",
            " Layer (type)                Output Shape              Param #   \n",
            "=================================================================\n",
            " conv3d_20 (Conv3D)          (None, 3, 28, 28, 256)    7168      \n",
            "                                                                 \n",
            " max_pooling3d_10 (MaxPoolin  (None, 1, 14, 14, 256)   0         \n",
            " g3D)                                                            \n",
            "                                                                 \n",
            " conv3d_21 (Conv3D)          (None, 1, 14, 14, 256)    1769728   \n",
            "                                                                 \n",
            " flatten_10 (Flatten)        (None, 50176)             0         \n",
            "                                                                 \n",
            " dense_32 (Dense)            (None, 64)                3211328   \n",
            "                                                                 \n",
            " dense_33 (Dense)            (None, 64)                4160      \n",
            "                                                                 \n",
            " dense_34 (Dense)            (None, 32)                2080      \n",
            "                                                                 \n",
            " dense_35 (Dense)            (None, 3)                 99        \n",
            "                                                                 \n",
            "=================================================================\n",
            "Total params: 4,994,563\n",
            "Trainable params: 4,994,563\n",
            "Non-trainable params: 0\n",
            "_________________________________________________________________\n"
          ]
        }
      ]
    },
    {
      "cell_type": "code",
      "source": [
        "model.compile(optimizer=\"adam\", loss=\"mean_squared_error\")"
      ],
      "metadata": {
        "id": "NWpyEXaCGLYm"
      },
      "execution_count": null,
      "outputs": []
    },
    {
      "cell_type": "code",
      "source": [
        "history = model.fit(X_train,y_train, validation_data=(X_test, y_test), epochs=50)"
      ],
      "metadata": {
        "colab": {
          "base_uri": "https://localhost:8080/"
        },
        "id": "5RY9wZV3JC4d",
        "outputId": "5d6ad62d-992c-4054-9a65-27dd4bbab6d3"
      },
      "execution_count": null,
      "outputs": [
        {
          "output_type": "stream",
          "name": "stdout",
          "text": [
            "Epoch 1/50\n",
            "438/438 [==============================] - 40s 90ms/step - loss: nan - val_loss: 14.5387\n",
            "Epoch 2/50\n",
            "438/438 [==============================] - 39s 89ms/step - loss: 14.5871 - val_loss: 14.3410\n",
            "Epoch 3/50\n",
            "438/438 [==============================] - 39s 88ms/step - loss: 14.4377 - val_loss: 14.3572\n",
            "Epoch 4/50\n",
            "438/438 [==============================] - 38s 88ms/step - loss: 14.4125 - val_loss: 14.3242\n",
            "Epoch 5/50\n",
            "438/438 [==============================] - 39s 88ms/step - loss: 14.3859 - val_loss: 14.4166\n",
            "Epoch 6/50\n",
            "438/438 [==============================] - 39s 89ms/step - loss: 14.3793 - val_loss: 14.3112\n",
            "Epoch 7/50\n",
            "438/438 [==============================] - 39s 89ms/step - loss: 14.3360 - val_loss: 14.2486\n",
            "Epoch 8/50\n",
            "438/438 [==============================] - 39s 89ms/step - loss: 7.1409 - val_loss: 2.6182\n",
            "Epoch 9/50\n",
            "438/438 [==============================] - 39s 88ms/step - loss: 2.6345 - val_loss: 2.5569\n",
            "Epoch 10/50\n",
            "438/438 [==============================] - 39s 88ms/step - loss: 2.7735 - val_loss: 2.6826\n",
            "Epoch 11/50\n",
            "438/438 [==============================] - 39s 88ms/step - loss: 2.6802 - val_loss: 2.6238\n",
            "Epoch 12/50\n",
            "438/438 [==============================] - 39s 88ms/step - loss: 2.6056 - val_loss: 2.5592\n",
            "Epoch 13/50\n",
            "438/438 [==============================] - 39s 88ms/step - loss: 2.5938 - val_loss: 2.6502\n",
            "Epoch 14/50\n",
            "438/438 [==============================] - 39s 88ms/step - loss: 2.5784 - val_loss: 2.5545\n",
            "Epoch 15/50\n",
            "438/438 [==============================] - 39s 88ms/step - loss: 2.4858 - val_loss: 2.4857\n",
            "Epoch 16/50\n",
            "438/438 [==============================] - 38s 88ms/step - loss: 2.4297 - val_loss: 2.5253\n",
            "Epoch 17/50\n",
            "438/438 [==============================] - 38s 88ms/step - loss: 2.4753 - val_loss: 2.4364\n",
            "Epoch 18/50\n",
            "438/438 [==============================] - 38s 87ms/step - loss: 2.4745 - val_loss: 2.6229\n",
            "Epoch 19/50\n",
            "438/438 [==============================] - 38s 88ms/step - loss: 2.4060 - val_loss: 2.4209\n",
            "Epoch 20/50\n",
            "438/438 [==============================] - 38s 88ms/step - loss: 2.4547 - val_loss: 2.5407\n",
            "Epoch 21/50\n",
            "438/438 [==============================] - 38s 88ms/step - loss: 2.3967 - val_loss: 2.4153\n",
            "Epoch 22/50\n",
            "438/438 [==============================] - 38s 87ms/step - loss: 2.3766 - val_loss: 2.4106\n",
            "Epoch 23/50\n",
            "438/438 [==============================] - 38s 88ms/step - loss: 2.3160 - val_loss: 2.3939\n",
            "Epoch 24/50\n",
            "438/438 [==============================] - 38s 88ms/step - loss: 2.5038 - val_loss: 2.4866\n",
            "Epoch 25/50\n",
            "438/438 [==============================] - 38s 88ms/step - loss: 2.4377 - val_loss: 2.4933\n",
            "Epoch 26/50\n",
            "438/438 [==============================] - 38s 88ms/step - loss: 2.3292 - val_loss: 2.4034\n",
            "Epoch 27/50\n",
            "438/438 [==============================] - 38s 88ms/step - loss: 2.3224 - val_loss: 2.3744\n",
            "Epoch 28/50\n",
            "438/438 [==============================] - 38s 88ms/step - loss: 2.2218 - val_loss: 2.3913\n",
            "Epoch 29/50\n",
            "438/438 [==============================] - 38s 88ms/step - loss: 2.1897 - val_loss: 2.4910\n",
            "Epoch 30/50\n",
            "438/438 [==============================] - 38s 88ms/step - loss: 2.1639 - val_loss: 2.4568\n",
            "Epoch 31/50\n",
            "438/438 [==============================] - 38s 88ms/step - loss: 2.5133 - val_loss: 2.5401\n",
            "Epoch 32/50\n",
            "438/438 [==============================] - 38s 88ms/step - loss: 2.3432 - val_loss: 2.4581\n",
            "Epoch 33/50\n",
            "438/438 [==============================] - 38s 88ms/step - loss: 2.2455 - val_loss: 2.3889\n",
            "Epoch 34/50\n",
            "438/438 [==============================] - 38s 88ms/step - loss: 2.1910 - val_loss: 2.3843\n",
            "Epoch 35/50\n",
            "438/438 [==============================] - 38s 88ms/step - loss: 2.1444 - val_loss: 2.4200\n",
            "Epoch 36/50\n",
            "438/438 [==============================] - 38s 88ms/step - loss: 2.1134 - val_loss: 2.6246\n",
            "Epoch 37/50\n",
            "438/438 [==============================] - 39s 88ms/step - loss: 2.1408 - val_loss: 2.5393\n",
            "Epoch 38/50\n",
            "438/438 [==============================] - 38s 88ms/step - loss: 2.2123 - val_loss: 2.4735\n",
            "Epoch 39/50\n",
            "438/438 [==============================] - 38s 88ms/step - loss: 2.4059 - val_loss: 2.5332\n",
            "Epoch 40/50\n",
            "438/438 [==============================] - 38s 88ms/step - loss: 2.4035 - val_loss: 2.5163\n",
            "Epoch 41/50\n",
            "438/438 [==============================] - 38s 88ms/step - loss: 2.2507 - val_loss: 2.5748\n",
            "Epoch 42/50\n",
            "438/438 [==============================] - 38s 88ms/step - loss: 2.3782 - val_loss: 2.8096\n",
            "Epoch 43/50\n",
            "438/438 [==============================] - 38s 88ms/step - loss: 2.2481 - val_loss: 2.3863\n",
            "Epoch 44/50\n",
            "438/438 [==============================] - 38s 88ms/step - loss: 2.4220 - val_loss: 2.5452\n",
            "Epoch 45/50\n",
            "438/438 [==============================] - 39s 88ms/step - loss: 2.3650 - val_loss: 2.5048\n",
            "Epoch 46/50\n",
            "438/438 [==============================] - 38s 88ms/step - loss: 2.4773 - val_loss: 2.4585\n",
            "Epoch 47/50\n",
            "438/438 [==============================] - 39s 89ms/step - loss: 2.3261 - val_loss: 2.4836\n",
            "Epoch 48/50\n",
            "438/438 [==============================] - 39s 89ms/step - loss: 2.3411 - val_loss: 2.4734\n",
            "Epoch 49/50\n",
            "438/438 [==============================] - 39s 89ms/step - loss: 2.3233 - val_loss: 2.4766\n",
            "Epoch 50/50\n",
            "438/438 [==============================] - 39s 88ms/step - loss: 2.2964 - val_loss: 2.3842\n"
          ]
        }
      ]
    },
    {
      "cell_type": "code",
      "source": [
        "plt.plot(range(50), history.history['loss'])\n",
        "plt.plot(range(50), history.history['val_loss'])\n",
        "plt.show()"
      ],
      "metadata": {
        "id": "sdlZ8wnb0rLy",
        "outputId": "77e96862-4f29-42bb-c267-cf6e0952cd8d",
        "colab": {
          "base_uri": "https://localhost:8080/",
          "height": 265
        }
      },
      "execution_count": null,
      "outputs": [
        {
          "output_type": "display_data",
          "data": {
            "image/png": "[encoded data removed]",
            "text/plain": [
              "<Figure size 432x288 with 1 Axes>"
            ]
          },
          "metadata": {
            "needs_background": "light"
          }
        }
      ]
    },
    {
      "cell_type": "code",
      "source": [
        "history = model.fit(X_train,y_train, validation_data=(X_test, y_test), epochs=20)"
      ],
      "metadata": {
        "id": "O6oC5Oiz6BD7",
        "outputId": "4ad9335f-901a-4eed-f04c-f666cd1d6faa",
        "colab": {
          "base_uri": "https://localhost:8080/"
        }
      },
      "execution_count": null,
      "outputs": [
        {
          "output_type": "stream",
          "name": "stdout",
          "text": [
            "Epoch 1/20\n",
            "438/438 [==============================] - 39s 90ms/step - loss: 1.9935 - val_loss: 2.6452\n",
            "Epoch 2/20\n",
            "438/438 [==============================] - 39s 89ms/step - loss: 2.1342 - val_loss: 2.4439\n",
            "Epoch 3/20\n",
            "438/438 [==============================] - 39s 89ms/step - loss: 2.1631 - val_loss: 2.4361\n",
            "Epoch 4/20\n",
            "438/438 [==============================] - 39s 89ms/step - loss: 2.2693 - val_loss: 2.5109\n",
            "Epoch 5/20\n",
            "438/438 [==============================] - 39s 89ms/step - loss: 2.0265 - val_loss: 2.4173\n",
            "Epoch 6/20\n",
            "438/438 [==============================] - 39s 89ms/step - loss: 2.0584 - val_loss: 2.5222\n",
            "Epoch 7/20\n",
            "438/438 [==============================] - 39s 89ms/step - loss: 2.0255 - val_loss: 2.5424\n",
            "Epoch 8/20\n",
            "438/438 [==============================] - 39s 89ms/step - loss: 1.9845 - val_loss: 2.6670\n",
            "Epoch 9/20\n",
            "438/438 [==============================] - 38s 88ms/step - loss: 1.9478 - val_loss: 2.7122\n",
            "Epoch 10/20\n",
            "438/438 [==============================] - 38s 88ms/step - loss: 1.9396 - val_loss: 2.7813\n",
            "Epoch 11/20\n",
            "438/438 [==============================] - 38s 88ms/step - loss: 2.1038 - val_loss: 2.5386\n",
            "Epoch 12/20\n",
            "438/438 [==============================] - 38s 88ms/step - loss: 2.0010 - val_loss: 2.5868\n",
            "Epoch 13/20\n",
            "438/438 [==============================] - 39s 88ms/step - loss: 1.9959 - val_loss: 2.6573\n",
            "Epoch 14/20\n",
            "438/438 [==============================] - 39s 89ms/step - loss: 1.9035 - val_loss: 2.9080\n",
            "Epoch 15/20\n",
            "438/438 [==============================] - 39s 88ms/step - loss: 1.8858 - val_loss: 3.0452\n",
            "Epoch 16/20\n",
            "438/438 [==============================] - 39s 88ms/step - loss: 1.8525 - val_loss: 3.0882\n",
            "Epoch 17/20\n",
            "438/438 [==============================] - 39s 88ms/step - loss: 1.9225 - val_loss: 2.9011\n",
            "Epoch 18/20\n",
            "438/438 [==============================] - 39s 88ms/step - loss: 1.8897 - val_loss: 3.0953\n",
            "Epoch 19/20\n",
            "438/438 [==============================] - 39s 88ms/step - loss: 1.8611 - val_loss: 3.0931\n",
            "Epoch 20/20\n",
            "438/438 [==============================] - 38s 88ms/step - loss: 2.0917 - val_loss: 2.7573\n"
          ]
        }
      ]
    },
    {
      "cell_type": "code",
      "source": [
        "plt.plot(range(20), history.history['loss'])\n",
        "plt.plot(range(20), history.history['val_loss'])\n",
        "plt.show()"
      ],
      "metadata": {
        "id": "GB9GfiBzDV-l",
        "outputId": "577fc4aa-de22-4ae6-9571-e66225eb3602",
        "colab": {
          "base_uri": "https://localhost:8080/",
          "height": 265
        }
      },
      "execution_count": null,
      "outputs": [
        {
          "output_type": "display_data",
          "data": {
            "image/png": "[encoded data removed]",
            "text/plain": [
              "<Figure size 432x288 with 1 Axes>"
            ]
          },
          "metadata": {
            "needs_background": "light"
          }
        }
      ]
    },
    {
      "cell_type": "code",
      "source": [
        ""
      ],
      "metadata": {
        "id": "QidIkwSdM6ap"
      },
      "execution_count": null,
      "outputs": []
    }
  ]
}