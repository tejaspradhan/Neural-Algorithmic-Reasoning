{
  "nbformat": 4,
  "nbformat_minor": 0,
  "metadata": {
    "colab": {
      "name": "MNIST_baseline_model.ipynb",
      "provenance": [],
      "collapsed_sections": [],
      "include_colab_link": true
    },
    "kernelspec": {
      "name": "python3",
      "display_name": "Python 3"
    },
    "language_info": {
      "name": "python"
    },
    "accelerator": "GPU"
  },
  "cells": [
    {
      "cell_type": "markdown",
      "metadata": {
        "id": "view-in-github",
        "colab_type": "text"
      },
      "source": [
        "<a href=\"https://colab.research.google.com/github/tejaspradhan/Neural-Algorithmic-Reasoning/blob/main/MNIST_baseline_model.ipynb\" target=\"_parent\"><img src=\"https://colab.research.google.com/assets/colab-badge.svg\" alt=\"Open In Colab\"/></a>"
      ]
    },
    {
      "cell_type": "code",
      "execution_count": 1,
      "metadata": {
        "id": "R5zr922SAVde"
      },
      "outputs": [],
      "source": [
        "import numpy as np\n",
        "import matplotlib.pyplot as plt\n",
        "from tensorflow.keras.models import Sequential\n",
        "from tensorflow.keras.layers import Conv3D, MaxPool3D, Dense, Flatten, Dropout, LSTM, BatchNormalization\n",
        "from tensorflow import random\n",
        "from tensorflow import keras\n",
        "%matplotlib inline"
      ]
    },
    {
      "cell_type": "code",
      "source": [
        "data = np.load(\"/content/train_image_data.npy\", allow_pickle=True)"
      ],
      "metadata": {
        "id": "SG7A9GbBBJWo"
      },
      "execution_count": 2,
      "outputs": []
    },
    {
      "cell_type": "code",
      "source": [
        "x, y= data[\"x\"], data[\"y\"]"
      ],
      "metadata": {
        "id": "HZnpkDLpBpaz"
      },
      "execution_count": 3,
      "outputs": []
    },
    {
      "cell_type": "code",
      "source": [
        "from sklearn.model_selection import train_test_split"
      ],
      "metadata": {
        "id": "RGjJafcwCULs"
      },
      "execution_count": 4,
      "outputs": []
    },
    {
      "cell_type": "code",
      "source": [
        "X_train, X_test, y_train, y_test = train_test_split(x, y, test_size = 0.3, random_state=42)"
      ],
      "metadata": {
        "id": "_7nHs8quBoCk"
      },
      "execution_count": 5,
      "outputs": []
    },
    {
      "cell_type": "code",
      "source": [
        "X_train.shape"
      ],
      "metadata": {
        "id": "IJts5ZfBCrIr",
        "colab": {
          "base_uri": "https://localhost:8080/"
        },
        "outputId": "077a0b45-8496-477c-9aa4-cd981f9257c8"
      },
      "execution_count": 6,
      "outputs": [
        {
          "output_type": "execute_result",
          "data": {
            "text/plain": [
              "(14000, 3, 28, 28)"
            ]
          },
          "metadata": {},
          "execution_count": 6
        }
      ]
    },
    {
      "cell_type": "code",
      "source": [
        "#np.array([X_train]).shape"
      ],
      "metadata": {
        "id": "kjJvaIJiCskd"
      },
      "execution_count": 7,
      "outputs": []
    },
    {
      "cell_type": "code",
      "source": [
        "X_train = X_train.reshape(X_train.shape[0], 3, 28, 28, 1)"
      ],
      "metadata": {
        "id": "YSKeHUmqC-_f"
      },
      "execution_count": 8,
      "outputs": []
    },
    {
      "cell_type": "code",
      "source": [
        "X_train.shape"
      ],
      "metadata": {
        "id": "zW4R_WI3DMxg",
        "colab": {
          "base_uri": "https://localhost:8080/"
        },
        "outputId": "d8c5cfca-005b-4155-9c15-86bd674f8d38"
      },
      "execution_count": 9,
      "outputs": [
        {
          "output_type": "execute_result",
          "data": {
            "text/plain": [
              "(14000, 3, 28, 28, 1)"
            ]
          },
          "metadata": {},
          "execution_count": 9
        }
      ]
    },
    {
      "cell_type": "code",
      "source": [
        "X_test = X_test.reshape(X_test.shape[0], 3, 28, 28, 1)"
      ],
      "metadata": {
        "id": "cVno5xB2DOK3"
      },
      "execution_count": 10,
      "outputs": []
    },
    {
      "cell_type": "code",
      "source": [
        "X_test.shape"
      ],
      "metadata": {
        "id": "1XH6GIc7DVfG",
        "colab": {
          "base_uri": "https://localhost:8080/"
        },
        "outputId": "8e86566e-e22d-41f4-a2b6-6c04817c0e84"
      },
      "execution_count": 11,
      "outputs": [
        {
          "output_type": "execute_result",
          "data": {
            "text/plain": [
              "(6000, 3, 28, 28, 1)"
            ]
          },
          "metadata": {},
          "execution_count": 11
        }
      ]
    },
    {
      "cell_type": "code",
      "source": [
        "random.set_seed(42)\n",
        "# add batch norm layer \n",
        "# Only last layer should be FC. Replace others with convolution layers \n",
        "# add lstm after a couple more conv3d layers reducing dimensionality \n",
        "# switch to SGD. \n",
        "model = Sequential()\n",
        "model.add(Conv3D(256, 5, data_format= \"channels_last\", input_shape=(3,28,28,1), padding='same', activation='relu'))\n",
        "model.add(MaxPool3D(pool_size=(3,3,3)))\n",
        "model.add(Conv3D(128, 3,padding='same', activation='relu'))\n",
        "model.add(Dropout(0.3))\n",
        "#model.add(MaxPool3D(pool_size=(3,3,3)))\n",
        "model.add(Conv3D(64, 3,padding='same', activation='relu'))\n",
        "model.add(Dropout(0.3))\n",
        "model.add(Conv3D(32, 3,padding='same', activation='relu'))\n",
        "model.add(BatchNormalization())\n",
        "model.add(Flatten())\n",
        "#model.add(Dense(64, activation='relu'))\n",
        "#model.add(Dense(64, activation='relu'))\n",
        "model.add(Dense(16, activation='relu'))\n",
        "model.add(Dense(3, activation='relu'))\n",
        "model.summary()"
      ],
      "metadata": {
        "id": "HfrLtdybDZYc",
        "colab": {
          "base_uri": "https://localhost:8080/"
        },
        "outputId": "9f888afc-f1af-4bae-98d9-687482562753"
      },
      "execution_count": 19,
      "outputs": [
        {
          "output_type": "stream",
          "name": "stdout",
          "text": [
            "Model: \"sequential_2\"\n",
            "_________________________________________________________________\n",
            " Layer (type)                Output Shape              Param #   \n",
            "=================================================================\n",
            " conv3d_7 (Conv3D)           (None, 3, 28, 28, 256)    32256     \n",
            "                                                                 \n",
            " max_pooling3d_2 (MaxPooling  (None, 1, 9, 9, 256)     0         \n",
            " 3D)                                                             \n",
            "                                                                 \n",
            " conv3d_8 (Conv3D)           (None, 1, 9, 9, 128)      884864    \n",
            "                                                                 \n",
            " dropout_1 (Dropout)         (None, 1, 9, 9, 128)      0         \n",
            "                                                                 \n",
            " conv3d_9 (Conv3D)           (None, 1, 9, 9, 64)       221248    \n",
            "                                                                 \n",
            " dropout_2 (Dropout)         (None, 1, 9, 9, 64)       0         \n",
            "                                                                 \n",
            " conv3d_10 (Conv3D)          (None, 1, 9, 9, 32)       55328     \n",
            "                                                                 \n",
            " batch_normalization_2 (Batc  (None, 1, 9, 9, 32)      128       \n",
            " hNormalization)                                                 \n",
            "                                                                 \n",
            " flatten_2 (Flatten)         (None, 2592)              0         \n",
            "                                                                 \n",
            " dense_4 (Dense)             (None, 16)                41488     \n",
            "                                                                 \n",
            " dense_5 (Dense)             (None, 3)                 51        \n",
            "                                                                 \n",
            "=================================================================\n",
            "Total params: 1,235,363\n",
            "Trainable params: 1,235,299\n",
            "Non-trainable params: 64\n",
            "_________________________________________________________________\n"
          ]
        }
      ]
    },
    {
      "cell_type": "code",
      "source": [
        "optimizer = keras.optimizers.SGD(lr=0.01)\n",
        "model.compile(optimizer=optimizer, loss=\"mean_squared_error\")"
      ],
      "metadata": {
        "id": "NWpyEXaCGLYm"
      },
      "execution_count": null,
      "outputs": []
    },
    {
      "cell_type": "code",
      "source": [
        "history = model.fit(X_train,y_train, validation_data=(X_test, y_test), epochs=50)"
      ],
      "metadata": {
        "id": "5RY9wZV3JC4d",
        "colab": {
          "base_uri": "https://localhost:8080/"
        },
        "outputId": "bcf1c2c4-264d-4f21-fa9b-1426f38ffe0d"
      },
      "execution_count": 21,
      "outputs": [
        {
          "output_type": "stream",
          "name": "stdout",
          "text": [
            "Epoch 1/50\n",
            "438/438 [==============================] - 25s 55ms/step - loss: 0.6824 - val_loss: 0.6619\n",
            "Epoch 2/50\n",
            "438/438 [==============================] - 24s 55ms/step - loss: 0.6584 - val_loss: 0.6539\n",
            "Epoch 3/50\n",
            "438/438 [==============================] - 24s 55ms/step - loss: 0.6551 - val_loss: 0.6764\n",
            "Epoch 4/50\n",
            "438/438 [==============================] - 24s 55ms/step - loss: 0.6510 - val_loss: 0.6531\n",
            "Epoch 5/50\n",
            "438/438 [==============================] - 24s 55ms/step - loss: 0.6483 - val_loss: 0.6625\n",
            "Epoch 6/50\n",
            "438/438 [==============================] - 22s 50ms/step - loss: 0.6469 - val_loss: 0.6480\n",
            "Epoch 7/50\n",
            "438/438 [==============================] - 22s 50ms/step - loss: 0.6440 - val_loss: 0.6427\n",
            "Epoch 8/50\n",
            "438/438 [==============================] - 22s 50ms/step - loss: 0.5770 - val_loss: 0.5086\n",
            "Epoch 9/50\n",
            "438/438 [==============================] - 22s 50ms/step - loss: 0.5077 - val_loss: 0.4902\n",
            "Epoch 10/50\n",
            "438/438 [==============================] - 24s 55ms/step - loss: 0.4821 - val_loss: 0.4862\n",
            "Epoch 11/50\n",
            "438/438 [==============================] - 22s 50ms/step - loss: 0.4695 - val_loss: 0.4545\n",
            "Epoch 12/50\n",
            "438/438 [==============================] - 22s 50ms/step - loss: 0.4539 - val_loss: 0.6222\n",
            "Epoch 13/50\n",
            "438/438 [==============================] - 22s 50ms/step - loss: 0.4368 - val_loss: 0.4429\n",
            "Epoch 14/50\n",
            "438/438 [==============================] - 22s 50ms/step - loss: 0.4200 - val_loss: 0.4381\n",
            "Epoch 15/50\n",
            "438/438 [==============================] - 22s 50ms/step - loss: 0.4052 - val_loss: 0.4260\n",
            "Epoch 16/50\n",
            "438/438 [==============================] - 22s 50ms/step - loss: 0.3951 - val_loss: 0.4157\n",
            "Epoch 17/50\n",
            "438/438 [==============================] - 24s 55ms/step - loss: 0.3822 - val_loss: 0.4261\n",
            "Epoch 18/50\n",
            "438/438 [==============================] - 22s 50ms/step - loss: 0.3728 - val_loss: 0.3972\n",
            "Epoch 19/50\n",
            "438/438 [==============================] - 24s 55ms/step - loss: 0.3620 - val_loss: 0.4859\n",
            "Epoch 20/50\n",
            "438/438 [==============================] - 24s 56ms/step - loss: 0.3521 - val_loss: 0.3727\n",
            "Epoch 21/50\n",
            "438/438 [==============================] - 24s 55ms/step - loss: 0.3427 - val_loss: 0.3960\n",
            "Epoch 22/50\n",
            "438/438 [==============================] - 22s 51ms/step - loss: 0.3315 - val_loss: 0.3821\n",
            "Epoch 23/50\n",
            "438/438 [==============================] - 24s 55ms/step - loss: 0.3230 - val_loss: 0.4525\n",
            "Epoch 24/50\n",
            "438/438 [==============================] - 22s 51ms/step - loss: 0.3134 - val_loss: 0.3727\n",
            "Epoch 25/50\n",
            "438/438 [==============================] - 22s 51ms/step - loss: 0.3042 - val_loss: 0.3416\n",
            "Epoch 26/50\n",
            "438/438 [==============================] - 24s 56ms/step - loss: 0.2953 - val_loss: 0.3634\n",
            "Epoch 27/50\n",
            "438/438 [==============================] - 22s 51ms/step - loss: 0.2847 - val_loss: 0.3732\n",
            "Epoch 28/50\n",
            "438/438 [==============================] - 22s 51ms/step - loss: 0.2771 - val_loss: 0.3599\n",
            "Epoch 29/50\n",
            "438/438 [==============================] - 24s 55ms/step - loss: 0.2695 - val_loss: 0.4001\n",
            "Epoch 30/50\n",
            "438/438 [==============================] - 22s 51ms/step - loss: 0.2596 - val_loss: 0.3427\n",
            "Epoch 31/50\n",
            "438/438 [==============================] - 22s 51ms/step - loss: 0.2542 - val_loss: 0.3439\n",
            "Epoch 32/50\n",
            "438/438 [==============================] - 24s 56ms/step - loss: 0.2438 - val_loss: 0.3324\n",
            "Epoch 33/50\n",
            "438/438 [==============================] - 24s 55ms/step - loss: 0.2405 - val_loss: 0.3264\n",
            "Epoch 34/50\n",
            "438/438 [==============================] - 22s 51ms/step - loss: 0.2326 - val_loss: 0.3294\n",
            "Epoch 35/50\n",
            "438/438 [==============================] - 22s 50ms/step - loss: 0.2237 - val_loss: 0.3235\n",
            "Epoch 36/50\n",
            "438/438 [==============================] - 24s 55ms/step - loss: 0.2157 - val_loss: 0.3286\n",
            "Epoch 37/50\n",
            "438/438 [==============================] - 22s 51ms/step - loss: 0.2110 - val_loss: 0.3642\n",
            "Epoch 38/50\n",
            "438/438 [==============================] - 22s 51ms/step - loss: 0.2054 - val_loss: 0.3811\n",
            "Epoch 39/50\n",
            "438/438 [==============================] - 22s 51ms/step - loss: 0.1976 - val_loss: 0.3240\n",
            "Epoch 40/50\n",
            "438/438 [==============================] - 22s 50ms/step - loss: 0.1908 - val_loss: 0.3337\n",
            "Epoch 41/50\n",
            "438/438 [==============================] - 24s 55ms/step - loss: 0.1881 - val_loss: 0.3316\n",
            "Epoch 42/50\n",
            "438/438 [==============================] - 22s 50ms/step - loss: 0.1812 - val_loss: 0.3227\n",
            "Epoch 43/50\n",
            "438/438 [==============================] - 22s 50ms/step - loss: 0.1745 - val_loss: 0.3554\n",
            "Epoch 44/50\n",
            "438/438 [==============================] - 24s 55ms/step - loss: 0.1718 - val_loss: 0.3221\n",
            "Epoch 45/50\n",
            "438/438 [==============================] - 22s 50ms/step - loss: 0.1667 - val_loss: 0.3160\n",
            "Epoch 46/50\n",
            "438/438 [==============================] - 22s 50ms/step - loss: 0.1599 - val_loss: 0.3215\n",
            "Epoch 47/50\n",
            "438/438 [==============================] - 22s 50ms/step - loss: 0.1545 - val_loss: 0.3127\n",
            "Epoch 48/50\n",
            "438/438 [==============================] - 22s 50ms/step - loss: 0.1509 - val_loss: 0.3273\n",
            "Epoch 49/50\n",
            "438/438 [==============================] - 22s 50ms/step - loss: 0.1464 - val_loss: 0.3366\n",
            "Epoch 50/50\n",
            "438/438 [==============================] - 22s 51ms/step - loss: 0.1440 - val_loss: 0.3376\n"
          ]
        }
      ]
    },
    {
      "cell_type": "code",
      "source": [
        "history = model.fit(X_train,y_train, validation_data=(X_test, y_test), epochs=10)"
      ],
      "metadata": {
        "id": "K5XURbGeUF-H",
        "outputId": "80b5c6c5-7502-483d-9872-d5bef39df005",
        "colab": {
          "base_uri": "https://localhost:8080/"
        }
      },
      "execution_count": 24,
      "outputs": [
        {
          "output_type": "stream",
          "name": "stdout",
          "text": [
            "Epoch 1/10\n",
            "438/438 [==============================] - 24s 55ms/step - loss: 0.1107 - val_loss: 0.3142\n",
            "Epoch 2/10\n",
            "438/438 [==============================] - 22s 50ms/step - loss: 0.1068 - val_loss: 0.3158\n",
            "Epoch 3/10\n",
            "438/438 [==============================] - 22s 50ms/step - loss: 0.1071 - val_loss: 0.3126\n",
            "Epoch 4/10\n",
            "438/438 [==============================] - 22s 50ms/step - loss: 0.1031 - val_loss: 0.3030\n",
            "Epoch 5/10\n",
            "438/438 [==============================] - 22s 50ms/step - loss: 0.1006 - val_loss: 0.3139\n",
            "Epoch 6/10\n",
            "438/438 [==============================] - 22s 50ms/step - loss: 0.1002 - val_loss: 0.2979\n",
            "Epoch 7/10\n",
            "438/438 [==============================] - 24s 55ms/step - loss: 0.0985 - val_loss: 0.3063\n",
            "Epoch 8/10\n",
            "438/438 [==============================] - 22s 50ms/step - loss: 0.0940 - val_loss: 0.3096\n",
            "Epoch 9/10\n",
            "438/438 [==============================] - 22s 50ms/step - loss: 0.0933 - val_loss: 0.3178\n",
            "Epoch 10/10\n",
            "438/438 [==============================] - 24s 55ms/step - loss: 0.0930 - val_loss: 0.3032\n"
          ]
        }
      ]
    },
    {
      "cell_type": "code",
      "source": [
        "plt.plot(range(50), history.history['loss'])\n",
        "plt.plot(range(50), history.history['val_loss'])\n",
        "plt.show()"
      ],
      "metadata": {
        "id": "sdlZ8wnb0rLy",
        "colab": {
          "base_uri": "https://localhost:8080/",
          "height": 266
        },
        "outputId": "ff7effa6-b88a-4ac5-8074-694b03252cea"
      },
      "execution_count": 22,
      "outputs": [
        {
          "output_type": "display_data",
          "data": {
            "image/png": "[encoded data removed]",
            "text/plain": [
              "<Figure size 432x288 with 1 Axes>"
            ]
          },
          "metadata": {
            "needs_background": "light"
          }
        }
      ]
    },
    {
      "cell_type": "code",
      "source": [
        ""
      ],
      "metadata": {
        "id": "wGQs0w2aVIEN"
      },
      "execution_count": 18,
      "outputs": []
    }
  ]
}