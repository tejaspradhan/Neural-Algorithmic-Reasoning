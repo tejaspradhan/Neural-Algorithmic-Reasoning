{
  "nbformat": 4,
  "nbformat_minor": 0,
  "metadata": {
    "colab": {
      "name": "MNIST_baseline_model.ipynb",
      "provenance": [],
      "collapsed_sections": [],
      "authorship_tag": "ABX9TyM7DwAQK7RmhRuLtpo5Pk4i",
      "include_colab_link": true
    },
    "kernelspec": {
      "name": "python3",
      "display_name": "Python 3"
    },
    "language_info": {
      "name": "python"
    },
    "accelerator": "GPU"
  },
  "cells": [
    {
      "cell_type": "markdown",
      "metadata": {
        "id": "view-in-github",
        "colab_type": "text"
      },
      "source": [
        "<a href=\"https://colab.research.google.com/github/tejaspradhan/Neural-Algorithmic-Reasoning/blob/main/MNIST_baseline_model.ipynb\" target=\"_parent\"><img src=\"https://colab.research.google.com/assets/colab-badge.svg\" alt=\"Open In Colab\"/></a>"
      ]
    },
    {
      "cell_type": "code",
      "execution_count": 1,
      "metadata": {
        "id": "R5zr922SAVde"
      },
      "outputs": [],
      "source": [
        "import numpy as np"
      ]
    },
    {
      "cell_type": "code",
      "source": [
        "data = np.load(\"/content/train_image_data.npz\", allow_pickle=True)"
      ],
      "metadata": {
        "id": "SG7A9GbBBJWo"
      },
      "execution_count": 2,
      "outputs": []
    },
    {
      "cell_type": "code",
      "source": [
        "x, y= data[\"x\"], data[\"y\"]"
      ],
      "metadata": {
        "id": "HZnpkDLpBpaz"
      },
      "execution_count": 3,
      "outputs": []
    },
    {
      "cell_type": "code",
      "source": [
        "from sklearn.model_selection import train_test_split"
      ],
      "metadata": {
        "id": "RGjJafcwCULs"
      },
      "execution_count": 4,
      "outputs": []
    },
    {
      "cell_type": "code",
      "source": [
        "X_train, X_test, y_train, y_test = train_test_split(x, y, test_size = 0.3, random_state=42)"
      ],
      "metadata": {
        "id": "_7nHs8quBoCk"
      },
      "execution_count": 5,
      "outputs": []
    },
    {
      "cell_type": "code",
      "source": [
        "X_train.shape"
      ],
      "metadata": {
        "colab": {
          "base_uri": "https://localhost:8080/"
        },
        "id": "IJts5ZfBCrIr",
        "outputId": "1e96626d-ca7e-4ab3-b1fb-519f76008675"
      },
      "execution_count": 6,
      "outputs": [
        {
          "output_type": "execute_result",
          "data": {
            "text/plain": [
              "(700, 3, 28, 28)"
            ]
          },
          "metadata": {},
          "execution_count": 6
        }
      ]
    },
    {
      "cell_type": "code",
      "source": [
        "#np.array([X_train]).shape"
      ],
      "metadata": {
        "id": "kjJvaIJiCskd"
      },
      "execution_count": 7,
      "outputs": []
    },
    {
      "cell_type": "code",
      "source": [
        "X_train = X_train.reshape(X_train.shape[0], 3, 28, 28, 1)"
      ],
      "metadata": {
        "id": "YSKeHUmqC-_f"
      },
      "execution_count": 8,
      "outputs": []
    },
    {
      "cell_type": "code",
      "source": [
        "X_train.shape"
      ],
      "metadata": {
        "colab": {
          "base_uri": "https://localhost:8080/"
        },
        "id": "zW4R_WI3DMxg",
        "outputId": "260f8197-add1-46d3-f940-9ed0f65c0b95"
      },
      "execution_count": 9,
      "outputs": [
        {
          "output_type": "execute_result",
          "data": {
            "text/plain": [
              "(700, 3, 28, 28, 1)"
            ]
          },
          "metadata": {},
          "execution_count": 9
        }
      ]
    },
    {
      "cell_type": "code",
      "source": [
        "X_test = X_test.reshape(X_test.shape[0], 3, 28, 28, 1)"
      ],
      "metadata": {
        "id": "cVno5xB2DOK3"
      },
      "execution_count": 10,
      "outputs": []
    },
    {
      "cell_type": "code",
      "source": [
        "X_test.shape"
      ],
      "metadata": {
        "colab": {
          "base_uri": "https://localhost:8080/"
        },
        "id": "1XH6GIc7DVfG",
        "outputId": "bc8ce64b-3657-452f-a673-1d67f8798a75"
      },
      "execution_count": 11,
      "outputs": [
        {
          "output_type": "execute_result",
          "data": {
            "text/plain": [
              "(300, 3, 28, 28, 1)"
            ]
          },
          "metadata": {},
          "execution_count": 11
        }
      ]
    },
    {
      "cell_type": "code",
      "source": [
        "from tensorflow.keras.models import Sequential\n",
        "from tensorflow.keras.layers import Conv3D, MaxPool3D, Dense, Flatten, Dropout\n",
        "from tensorflow import random"
      ],
      "metadata": {
        "id": "8ccH0djBBM2b"
      },
      "execution_count": 12,
      "outputs": []
    },
    {
      "cell_type": "code",
      "source": [
        "random.set_seed(42)\n",
        "\n",
        "model = Sequential()\n",
        "model.add(Conv3D(256, 3, data_format= \"channels_last\", input_shape=(3,28,28,1), padding='same'))\n",
        "model.add(MaxPool3D(pool_size=(2, 2, 2)))\n",
        "model.add(Conv3D(256, 3,padding='same'))\n",
        "#model.add(MaxPool3D(pool_size=(2, 2, 2)))\n",
        "model.add(Flatten())\n",
        "model.add(Dense(64, activation='relu'))\n",
        "model.add(Dense(64, activation='relu'))\n",
        "model.add(Dense(3, activation='relu'))\n",
        "model.summary()"
      ],
      "metadata": {
        "colab": {
          "base_uri": "https://localhost:8080/"
        },
        "id": "HfrLtdybDZYc",
        "outputId": "8621f5fb-47fa-4cff-e9c7-eecf850aeea4"
      },
      "execution_count": 13,
      "outputs": [
        {
          "output_type": "stream",
          "name": "stdout",
          "text": [
            "Model: \"sequential\"\n",
            "_________________________________________________________________\n",
            " Layer (type)                Output Shape              Param #   \n",
            "=================================================================\n",
            " conv3d (Conv3D)             (None, 3, 28, 28, 256)    7168      \n",
            "                                                                 \n",
            " max_pooling3d (MaxPooling3D  (None, 1, 14, 14, 256)   0         \n",
            " )                                                               \n",
            "                                                                 \n",
            " conv3d_1 (Conv3D)           (None, 1, 14, 14, 256)    1769728   \n",
            "                                                                 \n",
            " flatten (Flatten)           (None, 50176)             0         \n",
            "                                                                 \n",
            " dense (Dense)               (None, 64)                3211328   \n",
            "                                                                 \n",
            " dense_1 (Dense)             (None, 64)                4160      \n",
            "                                                                 \n",
            " dense_2 (Dense)             (None, 3)                 195       \n",
            "                                                                 \n",
            "=================================================================\n",
            "Total params: 4,992,579\n",
            "Trainable params: 4,992,579\n",
            "Non-trainable params: 0\n",
            "_________________________________________________________________\n"
          ]
        }
      ]
    },
    {
      "cell_type": "code",
      "source": [
        "model.compile(optimizer=\"sgd\", loss=\"mean_squared_error\")"
      ],
      "metadata": {
        "id": "NWpyEXaCGLYm"
      },
      "execution_count": 14,
      "outputs": []
    },
    {
      "cell_type": "code",
      "source": [
        "history = model.fit(X_train,y_train, validation_data=(X_test, y_test), epochs=10)"
      ],
      "metadata": {
        "colab": {
          "base_uri": "https://localhost:8080/"
        },
        "id": "5RY9wZV3JC4d",
        "outputId": "7e216262-5ae6-48f6-d580-a90618647552"
      },
      "execution_count": 15,
      "outputs": [
        {
          "output_type": "stream",
          "name": "stdout",
          "text": [
            "Epoch 1/10\n",
            "22/22 [==============================] - 15s 124ms/step - loss: 1.8978 - val_loss: 1.6667\n",
            "Epoch 2/10\n",
            "22/22 [==============================] - 2s 84ms/step - loss: 1.6667 - val_loss: 1.6667\n",
            "Epoch 3/10\n",
            "22/22 [==============================] - 2s 83ms/step - loss: 1.6667 - val_loss: 1.6667\n",
            "Epoch 4/10\n",
            "22/22 [==============================] - 2s 81ms/step - loss: 1.6667 - val_loss: 1.6667\n",
            "Epoch 5/10\n",
            "22/22 [==============================] - 2s 80ms/step - loss: 1.6667 - val_loss: 1.6667\n",
            "Epoch 6/10\n",
            "22/22 [==============================] - 2s 81ms/step - loss: 1.6667 - val_loss: 1.6667\n",
            "Epoch 7/10\n",
            "22/22 [==============================] - 2s 84ms/step - loss: 1.6667 - val_loss: 1.6667\n",
            "Epoch 8/10\n",
            "22/22 [==============================] - 2s 80ms/step - loss: 1.6667 - val_loss: 1.6667\n",
            "Epoch 9/10\n",
            "22/22 [==============================] - 2s 81ms/step - loss: 1.6667 - val_loss: 1.6667\n",
            "Epoch 10/10\n",
            "22/22 [==============================] - 2s 81ms/step - loss: 1.6667 - val_loss: 1.6667\n"
          ]
        }
      ]
    }
  ]
}